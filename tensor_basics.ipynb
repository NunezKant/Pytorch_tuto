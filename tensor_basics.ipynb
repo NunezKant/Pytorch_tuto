{
 "cells": [
  {
   "cell_type": "markdown",
   "source": [
    "# Tensor Introduction\n",
    "\n",
    "We will revisit the basics of tensors, how to convert numpy to tensor objects, and more \n",
    "\n",
    "* What is a tensor? (in maths)\n",
    "\n",
    "    * It describes a multilinear relantionship between algebraic objects related to the same vector space.\n",
    "    \n",
    "\n",
    "* What is a tensor? (in DL)\n",
    "\n",
    "    * Is basically the same as a numpy array, a generic n-dimensional array to be used for computation, the biggest diference between a *numpy array* and a *pytorch tensor* is that **the latest can run on a GPU**.\n",
    "\n",
    "## Import libraries"
   ],
   "metadata": {}
  },
  {
   "cell_type": "code",
   "execution_count": 1,
   "source": [
    "import torch "
   ],
   "outputs": [],
   "metadata": {}
  },
  {
   "cell_type": "markdown",
   "source": [
    "* Create an empty tensor:"
   ],
   "metadata": {}
  },
  {
   "cell_type": "code",
   "execution_count": 2,
   "source": [
    "x = torch.empty(3) # 1 row , 3 col\n",
    "print(x)"
   ],
   "outputs": [
    {
     "output_type": "stream",
     "name": "stdout",
     "text": [
      "tensor([-4.1005e-35,  2.7564e+26,  1.2161e-38])\n"
     ]
    }
   ],
   "metadata": {}
  },
  {
   "cell_type": "markdown",
   "source": [
    "* We can specify the dimensions of our empty tensor:"
   ],
   "metadata": {}
  },
  {
   "cell_type": "code",
   "execution_count": 3,
   "source": [
    "x = torch.empty(2,3) # 2 row , 3 col\n",
    "print(x)"
   ],
   "outputs": [
    {
     "output_type": "stream",
     "name": "stdout",
     "text": [
      "tensor([[1.8598e-36, 0.0000e+00, 1.8575e-36],\n",
      "        [0.0000e+00, 1.0361e+22, 2.6633e+36]])\n"
     ]
    }
   ],
   "metadata": {}
  },
  {
   "cell_type": "markdown",
   "source": [
    "* We can create a tensor with random numbers or zeros:"
   ],
   "metadata": {}
  },
  {
   "cell_type": "code",
   "execution_count": 4,
   "source": [
    "x = torch.rand(2,2)\n",
    "print(x)"
   ],
   "outputs": [
    {
     "output_type": "stream",
     "name": "stdout",
     "text": [
      "tensor([[0.0056, 0.9823],\n",
      "        [0.1788, 0.1393]])\n"
     ]
    }
   ],
   "metadata": {}
  },
  {
   "cell_type": "code",
   "execution_count": 5,
   "source": [
    "x = torch.zeros(2,2)\n",
    "print(x)"
   ],
   "outputs": [
    {
     "output_type": "stream",
     "name": "stdout",
     "text": [
      "tensor([[0., 0.],\n",
      "        [0., 0.]])\n"
     ]
    }
   ],
   "metadata": {}
  },
  {
   "cell_type": "code",
   "execution_count": null,
   "source": [],
   "outputs": [],
   "metadata": {}
  }
 ],
 "metadata": {
  "orig_nbformat": 4,
  "language_info": {
   "name": "python",
   "version": "3.9.5",
   "mimetype": "text/x-python",
   "codemirror_mode": {
    "name": "ipython",
    "version": 3
   },
   "pygments_lexer": "ipython3",
   "nbconvert_exporter": "python",
   "file_extension": ".py"
  },
  "kernelspec": {
   "name": "python3",
   "display_name": "Python 3.9.5 64-bit ('Pytorch_Intro-tTLkiOo3': pipenv)"
  },
  "interpreter": {
   "hash": "2dcc0e8861c3ac3e9ce0aee99191a4c13ff6b8d1fd5b0c82dfaa231f15b68aa4"
  }
 },
 "nbformat": 4,
 "nbformat_minor": 2
}