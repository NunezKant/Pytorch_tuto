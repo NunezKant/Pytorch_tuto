{
 "cells": [
  {
   "cell_type": "markdown",
   "source": [
    "# Automatic differentation and training loop"
   ],
   "metadata": {}
  },
  {
   "cell_type": "markdown",
   "source": [
    "Why autograd is important and how it works: [Why Jacobians are useful to compute gradients in a NN?](https://suzyahyah.github.io/calculus/machine%20learning/2018/04/04/Jacobian-and-Backpropagation.html)"
   ],
   "metadata": {}
  },
  {
   "cell_type": "code",
   "execution_count": 1,
   "source": [
    "import torch "
   ],
   "outputs": [],
   "metadata": {}
  },
  {
   "cell_type": "markdown",
   "source": [
    "We specify that our tensor requires gradient, i.e, we want to compute a derivate w.r.t. that tensor:"
   ],
   "metadata": {}
  },
  {
   "cell_type": "code",
   "execution_count": 2,
   "source": [
    "x = torch.rand(4,requires_grad=True)\n",
    "print(x)"
   ],
   "outputs": [
    {
     "output_type": "stream",
     "name": "stdout",
     "text": [
      "tensor([0.5082, 0.3681, 0.5893, 0.8923], requires_grad=True)\n"
     ]
    }
   ],
   "metadata": {}
  },
  {
   "cell_type": "markdown",
   "source": [
    "Lets start doing some computations and see how pytorch keeps track of those in a [computational graph.](https://blog.paperspace.com/pytorch-101-understanding-graphs-and-automatic-differentiation/)"
   ],
   "metadata": {}
  },
  {
   "cell_type": "code",
   "execution_count": 3,
   "source": [
    "y = x*5\n",
    "print(y)"
   ],
   "outputs": [
    {
     "output_type": "stream",
     "name": "stdout",
     "text": [
      "tensor([2.5412, 1.8403, 2.9466, 4.4617], grad_fn=<MulBackward0>)\n"
     ]
    }
   ],
   "metadata": {}
  },
  {
   "cell_type": "code",
   "execution_count": 4,
   "source": [
    "w = y**2\n",
    "print(w)"
   ],
   "outputs": [
    {
     "output_type": "stream",
     "name": "stdout",
     "text": [
      "tensor([ 6.4577,  3.3867,  8.6827, 19.9068], grad_fn=<PowBackward0>)\n"
     ]
    }
   ],
   "metadata": {}
  },
  {
   "cell_type": "code",
   "execution_count": 5,
   "source": [
    "z = w.mean()\n",
    "print(z)"
   ],
   "outputs": [
    {
     "output_type": "stream",
     "name": "stdout",
     "text": [
      "tensor(9.6085, grad_fn=<MeanBackward0>)\n"
     ]
    }
   ],
   "metadata": {}
  },
  {
   "cell_type": "markdown",
   "source": [
    "As you can see, each output coming from a computation has an associated `grad_fun` that describes the graph that relates every computation with the initial variable.\n",
    "\n",
    "so if we want to compute $\\frac{\\partial z}{\\partial x}$ we simply do:"
   ],
   "metadata": {}
  },
  {
   "cell_type": "code",
   "execution_count": 6,
   "source": [
    "z.backward()\n",
    "print(x.grad)"
   ],
   "outputs": [
    {
     "output_type": "stream",
     "name": "stdout",
     "text": [
      "tensor([ 6.3530,  4.6007,  7.3666, 11.1543])\n"
     ]
    }
   ],
   "metadata": {}
  },
  {
   "cell_type": "markdown",
   "source": [
    "`z.backward()` produces a *vector-jacobian product* (i.e, chain-rule) and the gradients are stored in the attribute `.grad` of the variable of interest.\n",
    "\n",
    "## How to prevent to compute the gradients ?? \n",
    "\n",
    "There are 3 main ways:\n",
    "\n",
    "| Syntax      | Description |\n",
    "| ----------- | ----------- |\n",
    "| `with torch.no_grad():`  | Context manager that allows us to do computations without gradients|\n",
    "|  `x.requires_grad_(False)` | Sets the requires_grad argument to False in place|\n",
    "| `x.detach()`  | Creates a new tensor without gradient capabilities|\n"
   ],
   "metadata": {}
  },
  {
   "cell_type": "code",
   "execution_count": 7,
   "source": [
    "x = torch.rand(5,requires_grad=True)\n",
    "print(x)\n",
    "x.requires_grad_(False)\n",
    "print(x)"
   ],
   "outputs": [
    {
     "output_type": "stream",
     "name": "stdout",
     "text": [
      "tensor([0.6693, 0.0604, 0.7356, 0.2259, 0.2592], requires_grad=True)\n",
      "tensor([0.6693, 0.0604, 0.7356, 0.2259, 0.2592])\n"
     ]
    }
   ],
   "metadata": {}
  },
  {
   "cell_type": "code",
   "execution_count": 8,
   "source": [
    "x = torch.rand(5,requires_grad=True)\n",
    "print(x)\n",
    "y = x.detach()\n",
    "print(y)"
   ],
   "outputs": [
    {
     "output_type": "stream",
     "name": "stdout",
     "text": [
      "tensor([0.4828, 0.9198, 0.9978, 0.1897, 0.5830], requires_grad=True)\n",
      "tensor([0.4828, 0.9198, 0.9978, 0.1897, 0.5830])\n"
     ]
    }
   ],
   "metadata": {}
  },
  {
   "cell_type": "code",
   "execution_count": 9,
   "source": [
    "with torch.no_grad():\n",
    "    y=x**2+2\n",
    "    print(y)"
   ],
   "outputs": [
    {
     "output_type": "stream",
     "name": "stdout",
     "text": [
      "tensor([2.2331, 2.8461, 2.9955, 2.0360, 2.3399])\n"
     ]
    }
   ],
   "metadata": {}
  },
  {
   "cell_type": "markdown",
   "source": [
    "One thing that we should be careful with is that the attribute `.grad` sums up all the gradients, so in many cases we will need to set gradients to zero after a training iteration.\n",
    "\n",
    "Dummy example:"
   ],
   "metadata": {}
  },
  {
   "cell_type": "code",
   "execution_count": 10,
   "source": [
    "W = torch.ones(3, requires_grad=True)\n",
    "\n",
    "for epoch in range(4):\n",
    "    out = (W*2).sum()\n",
    "\n",
    "    out.backward()\n",
    "\n",
    "    print(W.grad)"
   ],
   "outputs": [
    {
     "output_type": "stream",
     "name": "stdout",
     "text": [
      "tensor([2., 2., 2.])\n",
      "tensor([4., 4., 4.])\n",
      "tensor([6., 6., 6.])\n",
      "tensor([8., 8., 8.])\n"
     ]
    }
   ],
   "metadata": {}
  },
  {
   "cell_type": "markdown",
   "source": [
    "As you can see at each iteration we are storing the previous values of the gradient, how to solve this? "
   ],
   "metadata": {}
  },
  {
   "cell_type": "code",
   "execution_count": 11,
   "source": [
    "W = torch.ones(3, requires_grad=True)\n",
    "\n",
    "for epoch in range(4):\n",
    "    out = (W*2).sum()\n",
    "\n",
    "    out.backward()\n",
    "\n",
    "    print(W.grad)\n",
    "\n",
    "    W.grad.zero_()"
   ],
   "outputs": [
    {
     "output_type": "stream",
     "name": "stdout",
     "text": [
      "tensor([2., 2., 2.])\n",
      "tensor([2., 2., 2.])\n",
      "tensor([2., 2., 2.])\n",
      "tensor([2., 2., 2.])\n"
     ]
    }
   ],
   "metadata": {}
  },
  {
   "cell_type": "markdown",
   "source": [
    "Here `.grad.zero_()` is setting inplace the gradients to zero at the end of each epoch, later we will talk about optimizers and how those have a built-in function that does exactly the same.\n",
    "\n",
    "## Dummy example: Perceptron with one input, one neuron and one output for one epoch"
   ],
   "metadata": {}
  },
  {
   "cell_type": "code",
   "execution_count": 12,
   "source": [
    "input = torch.tensor(2.0)\n",
    "output = torch.tensor(10.0)\n",
    "\n",
    "W = torch.tensor(1.0, requires_grad=True) # this requires grad since it is our learnable param\n",
    "pred = W*input\n",
    "loss = (pred - output)**2 #MSE loss\n",
    "print(loss)\n",
    "loss.backward() # backprop"
   ],
   "outputs": [
    {
     "output_type": "stream",
     "name": "stdout",
     "text": [
      "tensor(64., grad_fn=<PowBackward0>)\n"
     ]
    }
   ],
   "metadata": {}
  },
  {
   "cell_type": "markdown",
   "source": [
    "Try to compute the backprop by hand and compare it with the result!!\n",
    "\n",
    "## Pytorch Trainig Loop\n",
    "\n",
    "The basic pytorch model pipeline is given by:\n",
    "\n",
    " 1. Defining the model\n",
    " 2. Defining the loss function and the optimizer\n",
    " 3. Train the model:\n",
    "    1. Compute the prediction: Forward pass\n",
    "    2. Compute the gradients: Backward pass\n",
    "    3. Parameter update\n",
    "    "
   ],
   "metadata": {}
  },
  {
   "cell_type": "code",
   "execution_count": 13,
   "source": [
    "import torch.nn as nn "
   ],
   "outputs": [],
   "metadata": {}
  },
  {
   "cell_type": "code",
   "execution_count": 14,
   "source": [
    "x = torch.randint(1,10,(5,), dtype=torch.float32)\n",
    "y = torch.randint(1,10,(5,), dtype=torch.float32)\n",
    "w = torch.zeros(1, requires_grad=True, dtype=torch.float32)"
   ],
   "outputs": [],
   "metadata": {}
  },
  {
   "cell_type": "markdown",
   "source": [
    "1. Define the model"
   ],
   "metadata": {}
  },
  {
   "cell_type": "code",
   "execution_count": 15,
   "source": [
    "def forward(x):\n",
    "    return w*x"
   ],
   "outputs": [],
   "metadata": {}
  },
  {
   "cell_type": "markdown",
   "source": [
    "2. Define the loss and optimizer"
   ],
   "metadata": {}
  },
  {
   "cell_type": "code",
   "execution_count": 16,
   "source": [
    "lr = 0.01\n",
    "n_iter = 11"
   ],
   "outputs": [],
   "metadata": {}
  },
  {
   "cell_type": "code",
   "execution_count": 17,
   "source": [
    "loss = nn.MSELoss()\n",
    "optimizer = torch.optim.SGD([w], lr = lr)"
   ],
   "outputs": [],
   "metadata": {}
  },
  {
   "cell_type": "markdown",
   "source": [
    "3. Training loop"
   ],
   "metadata": {}
  },
  {
   "cell_type": "code",
   "execution_count": 18,
   "source": [
    "for epoch in range(n_iter):\n",
    "    pred = forward(x)\n",
    "    l = loss(y, pred)\n",
    "    l.backward() # gradients\n",
    "    optimizer.step() #update weights\n",
    "    optimizer.zero_grad() # set grads to 0\n",
    "\n",
    "    if epoch % 5 == 0:\n",
    "        print(f'epoch {epoch}: w = {w}, loss = {l}')"
   ],
   "outputs": [
    {
     "output_type": "stream",
     "name": "stdout",
     "text": [
      "epoch 0: w = tensor([0.5120], requires_grad=True), loss = 47.599998474121094\n",
      "epoch 5: w = tensor([1.0153], requires_grad=True), loss = 21.202138900756836\n",
      "epoch 10: w = tensor([1.0317], requires_grad=True), loss = 21.174222946166992\n"
     ]
    }
   ],
   "metadata": {}
  },
  {
   "cell_type": "markdown",
   "source": [
    "We can see how our loss decreases with epochs, and our weight is adjusted.\n",
    "\n",
    "# Linear Regression\n",
    "\n",
    "We will use all the knowledge to do a simple linear regression model using pytorch."
   ],
   "metadata": {}
  },
  {
   "cell_type": "code",
   "execution_count": 19,
   "source": [
    "import numpy as np \n",
    "import matplotlib.pyplot as plt\n",
    "from sklearn import datasets "
   ],
   "outputs": [],
   "metadata": {}
  },
  {
   "cell_type": "code",
   "execution_count": 25,
   "source": [
    "X,y = datasets.make_regression(n_samples=50,n_features=1,noise=10,random_state=2021)\n",
    "X = torch.from_numpy(X.astype(np.float32)) # if type is not specified it is a double, we needed as float32\n",
    "y = torch.from_numpy(y.astype(np.float32)).view(y.shape[0],1) # We reshape y\n",
    "print(f\"y shape:{y.shape}\")\n",
    "n_samples , n_features = X.shape"
   ],
   "outputs": [
    {
     "output_type": "stream",
     "name": "stdout",
     "text": [
      "y shape is:torch.Size([50, 1])\n"
     ]
    }
   ],
   "metadata": {}
  },
  {
   "cell_type": "markdown",
   "source": [
    "## Define the model"
   ],
   "metadata": {}
  },
  {
   "cell_type": "code",
   "execution_count": 26,
   "source": [
    "input_size = n_features\n",
    "output_size = 1\n",
    "model = nn.Linear(input_size, output_size)"
   ],
   "outputs": [],
   "metadata": {}
  },
  {
   "cell_type": "markdown",
   "source": [
    "## Optimizer"
   ],
   "metadata": {}
  },
  {
   "cell_type": "code",
   "execution_count": 27,
   "source": [
    "lr = 0.01\n",
    "criterion = nn.MSELoss()\n",
    "optimizer = torch.optim.SGD(model.parameters(),lr=lr)"
   ],
   "outputs": [],
   "metadata": {}
  },
  {
   "cell_type": "markdown",
   "source": [
    "## Training"
   ],
   "metadata": {}
  },
  {
   "cell_type": "code",
   "execution_count": 29,
   "source": [
    "epochs = 50\n",
    "for epoch in range(epochs):\n",
    "    pred = model(X)\n",
    "    loss = criterion(pred,y)\n",
    "    loss.backward()\n",
    "    optimizer.step()\n",
    "    optimizer.zero_grad()\n",
    "    if (epoch+1) % 10 == 0:\n",
    "        print(f'epoch:{epoch+1}, loss: {loss.item()}')"
   ],
   "outputs": [
    {
     "output_type": "stream",
     "name": "stdout",
     "text": [
      "epoch:10, loss: 167.85760498046875\n",
      "epoch:20, loss: 145.57667541503906\n",
      "epoch:30, loss: 130.62258911132812\n",
      "epoch:40, loss: 120.56605529785156\n",
      "epoch:50, loss: 113.789794921875\n"
     ]
    }
   ],
   "metadata": {}
  },
  {
   "cell_type": "code",
   "execution_count": 30,
   "source": [
    "predicted = model(X).detach().numpy()\n",
    "plt.plot(X,y,'bo')\n",
    "plt.plot(X,predicted,'r')"
   ],
   "outputs": [
    {
     "output_type": "execute_result",
     "data": {
      "text/plain": [
       "[<matplotlib.lines.Line2D at 0x7f36c322a310>]"
      ]
     },
     "metadata": {},
     "execution_count": 30
    },
    {
     "output_type": "display_data",
     "data": {
      "text/plain": [
       "<Figure size 432x288 with 1 Axes>"
      ],
      "image/svg+xml": "<?xml version=\"1.0\" encoding=\"utf-8\" standalone=\"no\"?>\n<!DOCTYPE svg PUBLIC \"-//W3C//DTD SVG 1.1//EN\"\n  \"http://www.w3.org/Graphics/SVG/1.1/DTD/svg11.dtd\">\n<svg height=\"248.518125pt\" version=\"1.1\" viewBox=\"0 0 377.304687 248.518125\" width=\"377.304687pt\" xmlns=\"http://www.w3.org/2000/svg\" xmlns:xlink=\"http://www.w3.org/1999/xlink\">\n <metadata>\n  <rdf:RDF xmlns:cc=\"http://creativecommons.org/ns#\" xmlns:dc=\"http://purl.org/dc/elements/1.1/\" xmlns:rdf=\"http://www.w3.org/1999/02/22-rdf-syntax-ns#\">\n   <cc:Work>\n    <dc:type rdf:resource=\"http://purl.org/dc/dcmitype/StillImage\"/>\n    <dc:date>2021-09-02T14:32:22.347689</dc:date>\n    <dc:format>image/svg+xml</dc:format>\n    <dc:creator>\n     <cc:Agent>\n      <dc:title>Matplotlib v3.4.3, https://matplotlib.org/</dc:title>\n     </cc:Agent>\n    </dc:creator>\n   </cc:Work>\n  </rdf:RDF>\n </metadata>\n <defs>\n  <style type=\"text/css\">*{stroke-linecap:butt;stroke-linejoin:round;}</style>\n </defs>\n <g id=\"figure_1\">\n  <g id=\"patch_1\">\n   <path d=\"M 0 248.518125 \nL 377.304687 248.518125 \nL 377.304687 0 \nL 0 0 \nz\n\" style=\"fill:none;\"/>\n  </g>\n  <g id=\"axes_1\">\n   <g id=\"patch_2\">\n    <path d=\"M 35.304688 224.64 \nL 370.104688 224.64 \nL 370.104688 7.2 \nL 35.304688 7.2 \nz\n\" style=\"fill:#ffffff;\"/>\n   </g>\n   <g id=\"matplotlib.axis_1\">\n    <g id=\"xtick_1\">\n     <g id=\"line2d_1\">\n      <defs>\n       <path d=\"M 0 0 \nL 0 3.5 \n\" id=\"mf7e4c9714a\" style=\"stroke:#000000;stroke-width:0.8;\"/>\n      </defs>\n      <g>\n       <use style=\"stroke:#000000;stroke-width:0.8;\" x=\"38.75131\" xlink:href=\"#mf7e4c9714a\" y=\"224.64\"/>\n      </g>\n     </g>\n     <g id=\"text_1\">\n      <!-- −3 -->\n      <g transform=\"translate(31.380217 239.238437)scale(0.1 -0.1)\">\n       <defs>\n        <path d=\"M 678 2272 \nL 4684 2272 \nL 4684 1741 \nL 678 1741 \nL 678 2272 \nz\n\" id=\"DejaVuSans-2212\" transform=\"scale(0.015625)\"/>\n        <path d=\"M 2597 2516 \nQ 3050 2419 3304 2112 \nQ 3559 1806 3559 1356 \nQ 3559 666 3084 287 \nQ 2609 -91 1734 -91 \nQ 1441 -91 1130 -33 \nQ 819 25 488 141 \nL 488 750 \nQ 750 597 1062 519 \nQ 1375 441 1716 441 \nQ 2309 441 2620 675 \nQ 2931 909 2931 1356 \nQ 2931 1769 2642 2001 \nQ 2353 2234 1838 2234 \nL 1294 2234 \nL 1294 2753 \nL 1863 2753 \nQ 2328 2753 2575 2939 \nQ 2822 3125 2822 3475 \nQ 2822 3834 2567 4026 \nQ 2313 4219 1838 4219 \nQ 1578 4219 1281 4162 \nQ 984 4106 628 3988 \nL 628 4550 \nQ 988 4650 1302 4700 \nQ 1616 4750 1894 4750 \nQ 2613 4750 3031 4423 \nQ 3450 4097 3450 3541 \nQ 3450 3153 3228 2886 \nQ 3006 2619 2597 2516 \nz\n\" id=\"DejaVuSans-33\" transform=\"scale(0.015625)\"/>\n       </defs>\n       <use xlink:href=\"#DejaVuSans-2212\"/>\n       <use x=\"83.789062\" xlink:href=\"#DejaVuSans-33\"/>\n      </g>\n     </g>\n    </g>\n    <g id=\"xtick_2\">\n     <g id=\"line2d_2\">\n      <g>\n       <use style=\"stroke:#000000;stroke-width:0.8;\" x=\"95.764849\" xlink:href=\"#mf7e4c9714a\" y=\"224.64\"/>\n      </g>\n     </g>\n     <g id=\"text_2\">\n      <!-- −2 -->\n      <g transform=\"translate(88.393755 239.238437)scale(0.1 -0.1)\">\n       <defs>\n        <path d=\"M 1228 531 \nL 3431 531 \nL 3431 0 \nL 469 0 \nL 469 531 \nQ 828 903 1448 1529 \nQ 2069 2156 2228 2338 \nQ 2531 2678 2651 2914 \nQ 2772 3150 2772 3378 \nQ 2772 3750 2511 3984 \nQ 2250 4219 1831 4219 \nQ 1534 4219 1204 4116 \nQ 875 4013 500 3803 \nL 500 4441 \nQ 881 4594 1212 4672 \nQ 1544 4750 1819 4750 \nQ 2544 4750 2975 4387 \nQ 3406 4025 3406 3419 \nQ 3406 3131 3298 2873 \nQ 3191 2616 2906 2266 \nQ 2828 2175 2409 1742 \nQ 1991 1309 1228 531 \nz\n\" id=\"DejaVuSans-32\" transform=\"scale(0.015625)\"/>\n       </defs>\n       <use xlink:href=\"#DejaVuSans-2212\"/>\n       <use x=\"83.789062\" xlink:href=\"#DejaVuSans-32\"/>\n      </g>\n     </g>\n    </g>\n    <g id=\"xtick_3\">\n     <g id=\"line2d_3\">\n      <g>\n       <use style=\"stroke:#000000;stroke-width:0.8;\" x=\"152.778387\" xlink:href=\"#mf7e4c9714a\" y=\"224.64\"/>\n      </g>\n     </g>\n     <g id=\"text_3\">\n      <!-- −1 -->\n      <g transform=\"translate(145.407294 239.238437)scale(0.1 -0.1)\">\n       <defs>\n        <path d=\"M 794 531 \nL 1825 531 \nL 1825 4091 \nL 703 3866 \nL 703 4441 \nL 1819 4666 \nL 2450 4666 \nL 2450 531 \nL 3481 531 \nL 3481 0 \nL 794 0 \nL 794 531 \nz\n\" id=\"DejaVuSans-31\" transform=\"scale(0.015625)\"/>\n       </defs>\n       <use xlink:href=\"#DejaVuSans-2212\"/>\n       <use x=\"83.789062\" xlink:href=\"#DejaVuSans-31\"/>\n      </g>\n     </g>\n    </g>\n    <g id=\"xtick_4\">\n     <g id=\"line2d_4\">\n      <g>\n       <use style=\"stroke:#000000;stroke-width:0.8;\" x=\"209.791926\" xlink:href=\"#mf7e4c9714a\" y=\"224.64\"/>\n      </g>\n     </g>\n     <g id=\"text_4\">\n      <!-- 0 -->\n      <g transform=\"translate(206.610676 239.238437)scale(0.1 -0.1)\">\n       <defs>\n        <path d=\"M 2034 4250 \nQ 1547 4250 1301 3770 \nQ 1056 3291 1056 2328 \nQ 1056 1369 1301 889 \nQ 1547 409 2034 409 \nQ 2525 409 2770 889 \nQ 3016 1369 3016 2328 \nQ 3016 3291 2770 3770 \nQ 2525 4250 2034 4250 \nz\nM 2034 4750 \nQ 2819 4750 3233 4129 \nQ 3647 3509 3647 2328 \nQ 3647 1150 3233 529 \nQ 2819 -91 2034 -91 \nQ 1250 -91 836 529 \nQ 422 1150 422 2328 \nQ 422 3509 836 4129 \nQ 1250 4750 2034 4750 \nz\n\" id=\"DejaVuSans-30\" transform=\"scale(0.015625)\"/>\n       </defs>\n       <use xlink:href=\"#DejaVuSans-30\"/>\n      </g>\n     </g>\n    </g>\n    <g id=\"xtick_5\">\n     <g id=\"line2d_5\">\n      <g>\n       <use style=\"stroke:#000000;stroke-width:0.8;\" x=\"266.805464\" xlink:href=\"#mf7e4c9714a\" y=\"224.64\"/>\n      </g>\n     </g>\n     <g id=\"text_5\">\n      <!-- 1 -->\n      <g transform=\"translate(263.624214 239.238437)scale(0.1 -0.1)\">\n       <use xlink:href=\"#DejaVuSans-31\"/>\n      </g>\n     </g>\n    </g>\n    <g id=\"xtick_6\">\n     <g id=\"line2d_6\">\n      <g>\n       <use style=\"stroke:#000000;stroke-width:0.8;\" x=\"323.819003\" xlink:href=\"#mf7e4c9714a\" y=\"224.64\"/>\n      </g>\n     </g>\n     <g id=\"text_6\">\n      <!-- 2 -->\n      <g transform=\"translate(320.637753 239.238437)scale(0.1 -0.1)\">\n       <use xlink:href=\"#DejaVuSans-32\"/>\n      </g>\n     </g>\n    </g>\n   </g>\n   <g id=\"matplotlib.axis_2\">\n    <g id=\"ytick_1\">\n     <g id=\"line2d_7\">\n      <defs>\n       <path d=\"M 0 0 \nL -3.5 0 \n\" id=\"m778067aea0\" style=\"stroke:#000000;stroke-width:0.8;\"/>\n      </defs>\n      <g>\n       <use style=\"stroke:#000000;stroke-width:0.8;\" x=\"35.304688\" xlink:href=\"#m778067aea0\" y=\"222.986202\"/>\n      </g>\n     </g>\n     <g id=\"text_7\">\n      <!-- −80 -->\n      <g transform=\"translate(7.2 226.785421)scale(0.1 -0.1)\">\n       <defs>\n        <path d=\"M 2034 2216 \nQ 1584 2216 1326 1975 \nQ 1069 1734 1069 1313 \nQ 1069 891 1326 650 \nQ 1584 409 2034 409 \nQ 2484 409 2743 651 \nQ 3003 894 3003 1313 \nQ 3003 1734 2745 1975 \nQ 2488 2216 2034 2216 \nz\nM 1403 2484 \nQ 997 2584 770 2862 \nQ 544 3141 544 3541 \nQ 544 4100 942 4425 \nQ 1341 4750 2034 4750 \nQ 2731 4750 3128 4425 \nQ 3525 4100 3525 3541 \nQ 3525 3141 3298 2862 \nQ 3072 2584 2669 2484 \nQ 3125 2378 3379 2068 \nQ 3634 1759 3634 1313 \nQ 3634 634 3220 271 \nQ 2806 -91 2034 -91 \nQ 1263 -91 848 271 \nQ 434 634 434 1313 \nQ 434 1759 690 2068 \nQ 947 2378 1403 2484 \nz\nM 1172 3481 \nQ 1172 3119 1398 2916 \nQ 1625 2713 2034 2713 \nQ 2441 2713 2670 2916 \nQ 2900 3119 2900 3481 \nQ 2900 3844 2670 4047 \nQ 2441 4250 2034 4250 \nQ 1625 4250 1398 4047 \nQ 1172 3844 1172 3481 \nz\n\" id=\"DejaVuSans-38\" transform=\"scale(0.015625)\"/>\n       </defs>\n       <use xlink:href=\"#DejaVuSans-2212\"/>\n       <use x=\"83.789062\" xlink:href=\"#DejaVuSans-38\"/>\n       <use x=\"147.412109\" xlink:href=\"#DejaVuSans-30\"/>\n      </g>\n     </g>\n    </g>\n    <g id=\"ytick_2\">\n     <g id=\"line2d_8\">\n      <g>\n       <use style=\"stroke:#000000;stroke-width:0.8;\" x=\"35.304688\" xlink:href=\"#m778067aea0\" y=\"193.343935\"/>\n      </g>\n     </g>\n     <g id=\"text_8\">\n      <!-- −60 -->\n      <g transform=\"translate(7.2 197.143153)scale(0.1 -0.1)\">\n       <defs>\n        <path d=\"M 2113 2584 \nQ 1688 2584 1439 2293 \nQ 1191 2003 1191 1497 \nQ 1191 994 1439 701 \nQ 1688 409 2113 409 \nQ 2538 409 2786 701 \nQ 3034 994 3034 1497 \nQ 3034 2003 2786 2293 \nQ 2538 2584 2113 2584 \nz\nM 3366 4563 \nL 3366 3988 \nQ 3128 4100 2886 4159 \nQ 2644 4219 2406 4219 \nQ 1781 4219 1451 3797 \nQ 1122 3375 1075 2522 \nQ 1259 2794 1537 2939 \nQ 1816 3084 2150 3084 \nQ 2853 3084 3261 2657 \nQ 3669 2231 3669 1497 \nQ 3669 778 3244 343 \nQ 2819 -91 2113 -91 \nQ 1303 -91 875 529 \nQ 447 1150 447 2328 \nQ 447 3434 972 4092 \nQ 1497 4750 2381 4750 \nQ 2619 4750 2861 4703 \nQ 3103 4656 3366 4563 \nz\n\" id=\"DejaVuSans-36\" transform=\"scale(0.015625)\"/>\n       </defs>\n       <use xlink:href=\"#DejaVuSans-2212\"/>\n       <use x=\"83.789062\" xlink:href=\"#DejaVuSans-36\"/>\n       <use x=\"147.412109\" xlink:href=\"#DejaVuSans-30\"/>\n      </g>\n     </g>\n    </g>\n    <g id=\"ytick_3\">\n     <g id=\"line2d_9\">\n      <g>\n       <use style=\"stroke:#000000;stroke-width:0.8;\" x=\"35.304688\" xlink:href=\"#m778067aea0\" y=\"163.701667\"/>\n      </g>\n     </g>\n     <g id=\"text_9\">\n      <!-- −40 -->\n      <g transform=\"translate(7.2 167.500886)scale(0.1 -0.1)\">\n       <defs>\n        <path d=\"M 2419 4116 \nL 825 1625 \nL 2419 1625 \nL 2419 4116 \nz\nM 2253 4666 \nL 3047 4666 \nL 3047 1625 \nL 3713 1625 \nL 3713 1100 \nL 3047 1100 \nL 3047 0 \nL 2419 0 \nL 2419 1100 \nL 313 1100 \nL 313 1709 \nL 2253 4666 \nz\n\" id=\"DejaVuSans-34\" transform=\"scale(0.015625)\"/>\n       </defs>\n       <use xlink:href=\"#DejaVuSans-2212\"/>\n       <use x=\"83.789062\" xlink:href=\"#DejaVuSans-34\"/>\n       <use x=\"147.412109\" xlink:href=\"#DejaVuSans-30\"/>\n      </g>\n     </g>\n    </g>\n    <g id=\"ytick_4\">\n     <g id=\"line2d_10\">\n      <g>\n       <use style=\"stroke:#000000;stroke-width:0.8;\" x=\"35.304688\" xlink:href=\"#m778067aea0\" y=\"134.0594\"/>\n      </g>\n     </g>\n     <g id=\"text_10\">\n      <!-- −20 -->\n      <g transform=\"translate(7.2 137.858618)scale(0.1 -0.1)\">\n       <use xlink:href=\"#DejaVuSans-2212\"/>\n       <use x=\"83.789062\" xlink:href=\"#DejaVuSans-32\"/>\n       <use x=\"147.412109\" xlink:href=\"#DejaVuSans-30\"/>\n      </g>\n     </g>\n    </g>\n    <g id=\"ytick_5\">\n     <g id=\"line2d_11\">\n      <g>\n       <use style=\"stroke:#000000;stroke-width:0.8;\" x=\"35.304688\" xlink:href=\"#m778067aea0\" y=\"104.417132\"/>\n      </g>\n     </g>\n     <g id=\"text_11\">\n      <!-- 0 -->\n      <g transform=\"translate(21.942188 108.216351)scale(0.1 -0.1)\">\n       <use xlink:href=\"#DejaVuSans-30\"/>\n      </g>\n     </g>\n    </g>\n    <g id=\"ytick_6\">\n     <g id=\"line2d_12\">\n      <g>\n       <use style=\"stroke:#000000;stroke-width:0.8;\" x=\"35.304688\" xlink:href=\"#m778067aea0\" y=\"74.774864\"/>\n      </g>\n     </g>\n     <g id=\"text_12\">\n      <!-- 20 -->\n      <g transform=\"translate(15.579688 78.574083)scale(0.1 -0.1)\">\n       <use xlink:href=\"#DejaVuSans-32\"/>\n       <use x=\"63.623047\" xlink:href=\"#DejaVuSans-30\"/>\n      </g>\n     </g>\n    </g>\n    <g id=\"ytick_7\">\n     <g id=\"line2d_13\">\n      <g>\n       <use style=\"stroke:#000000;stroke-width:0.8;\" x=\"35.304688\" xlink:href=\"#m778067aea0\" y=\"45.132597\"/>\n      </g>\n     </g>\n     <g id=\"text_13\">\n      <!-- 40 -->\n      <g transform=\"translate(15.579688 48.931816)scale(0.1 -0.1)\">\n       <use xlink:href=\"#DejaVuSans-34\"/>\n       <use x=\"63.623047\" xlink:href=\"#DejaVuSans-30\"/>\n      </g>\n     </g>\n    </g>\n    <g id=\"ytick_8\">\n     <g id=\"line2d_14\">\n      <g>\n       <use style=\"stroke:#000000;stroke-width:0.8;\" x=\"35.304688\" xlink:href=\"#m778067aea0\" y=\"15.490329\"/>\n      </g>\n     </g>\n     <g id=\"text_14\">\n      <!-- 60 -->\n      <g transform=\"translate(15.579688 19.289548)scale(0.1 -0.1)\">\n       <use xlink:href=\"#DejaVuSans-36\"/>\n       <use x=\"63.623047\" xlink:href=\"#DejaVuSans-30\"/>\n      </g>\n     </g>\n    </g>\n   </g>\n   <g id=\"line2d_15\">\n    <defs>\n     <path d=\"M 0 3 \nC 0.795609 3 1.55874 2.683901 2.12132 2.12132 \nC 2.683901 1.55874 3 0.795609 3 0 \nC 3 -0.795609 2.683901 -1.55874 2.12132 -2.12132 \nC 1.55874 -2.683901 0.795609 -3 0 -3 \nC -0.795609 -3 -1.55874 -2.683901 -2.12132 -2.12132 \nC -2.683901 -1.55874 -3 -0.795609 -3 0 \nC -3 0.795609 -2.683901 1.55874 -2.12132 2.12132 \nC -1.55874 2.683901 -0.795609 3 0 3 \nz\n\" id=\"mc2dfd0c305\" style=\"stroke:#0000ff;\"/>\n    </defs>\n    <g clip-path=\"url(#p61db895803)\">\n     <use style=\"fill:#0000ff;stroke:#0000ff;\" x=\"101.025924\" xlink:href=\"#mc2dfd0c305\" y=\"172.919131\"/>\n     <use style=\"fill:#0000ff;stroke:#0000ff;\" x=\"212.75094\" xlink:href=\"#mc2dfd0c305\" y=\"124.78413\"/>\n     <use style=\"fill:#0000ff;stroke:#0000ff;\" x=\"294.310634\" xlink:href=\"#mc2dfd0c305\" y=\"30.625985\"/>\n     <use style=\"fill:#0000ff;stroke:#0000ff;\" x=\"200.58381\" xlink:href=\"#mc2dfd0c305\" y=\"112.234573\"/>\n     <use style=\"fill:#0000ff;stroke:#0000ff;\" x=\"153.769439\" xlink:href=\"#mc2dfd0c305\" y=\"135.009373\"/>\n     <use style=\"fill:#0000ff;stroke:#0000ff;\" x=\"173.693125\" xlink:href=\"#mc2dfd0c305\" y=\"121.471481\"/>\n     <use style=\"fill:#0000ff;stroke:#0000ff;\" x=\"195.190295\" xlink:href=\"#mc2dfd0c305\" y=\"140.620526\"/>\n     <use style=\"fill:#0000ff;stroke:#0000ff;\" x=\"150.227393\" xlink:href=\"#mc2dfd0c305\" y=\"161.09739\"/>\n     <use style=\"fill:#0000ff;stroke:#0000ff;\" x=\"50.522869\" xlink:href=\"#mc2dfd0c305\" y=\"214.756364\"/>\n     <use style=\"fill:#0000ff;stroke:#0000ff;\" x=\"233.111359\" xlink:href=\"#mc2dfd0c305\" y=\"100.22584\"/>\n     <use style=\"fill:#0000ff;stroke:#0000ff;\" x=\"196.959247\" xlink:href=\"#mc2dfd0c305\" y=\"90.968989\"/>\n     <use style=\"fill:#0000ff;stroke:#0000ff;\" x=\"251.305223\" xlink:href=\"#mc2dfd0c305\" y=\"43.296566\"/>\n     <use style=\"fill:#0000ff;stroke:#0000ff;\" x=\"272.519604\" xlink:href=\"#mc2dfd0c305\" y=\"48.390398\"/>\n     <use style=\"fill:#0000ff;stroke:#0000ff;\" x=\"233.860467\" xlink:href=\"#mc2dfd0c305\" y=\"81.486284\"/>\n     <use style=\"fill:#0000ff;stroke:#0000ff;\" x=\"294.662797\" xlink:href=\"#mc2dfd0c305\" y=\"60.352952\"/>\n     <use style=\"fill:#0000ff;stroke:#0000ff;\" x=\"223.481309\" xlink:href=\"#mc2dfd0c305\" y=\"94.012608\"/>\n     <use style=\"fill:#0000ff;stroke:#0000ff;\" x=\"215.85895\" xlink:href=\"#mc2dfd0c305\" y=\"95.546748\"/>\n     <use style=\"fill:#0000ff;stroke:#0000ff;\" x=\"162.017235\" xlink:href=\"#mc2dfd0c305\" y=\"130.995971\"/>\n     <use style=\"fill:#0000ff;stroke:#0000ff;\" x=\"215.650136\" xlink:href=\"#mc2dfd0c305\" y=\"121.188492\"/>\n     <use style=\"fill:#0000ff;stroke:#0000ff;\" x=\"213.932836\" xlink:href=\"#mc2dfd0c305\" y=\"100.468174\"/>\n     <use style=\"fill:#0000ff;stroke:#0000ff;\" x=\"133.610096\" xlink:href=\"#mc2dfd0c305\" y=\"172.524834\"/>\n     <use style=\"fill:#0000ff;stroke:#0000ff;\" x=\"163.80932\" xlink:href=\"#mc2dfd0c305\" y=\"153.914423\"/>\n     <use style=\"fill:#0000ff;stroke:#0000ff;\" x=\"230.410758\" xlink:href=\"#mc2dfd0c305\" y=\"84.63206\"/>\n     <use style=\"fill:#0000ff;stroke:#0000ff;\" x=\"248.333696\" xlink:href=\"#mc2dfd0c305\" y=\"71.54023\"/>\n     <use style=\"fill:#0000ff;stroke:#0000ff;\" x=\"294.463182\" xlink:href=\"#mc2dfd0c305\" y=\"46.214822\"/>\n     <use style=\"fill:#0000ff;stroke:#0000ff;\" x=\"168.733124\" xlink:href=\"#mc2dfd0c305\" y=\"118.95606\"/>\n     <use style=\"fill:#0000ff;stroke:#0000ff;\" x=\"129.301475\" xlink:href=\"#mc2dfd0c305\" y=\"144.414962\"/>\n     <use style=\"fill:#0000ff;stroke:#0000ff;\" x=\"275.199909\" xlink:href=\"#mc2dfd0c305\" y=\"45.856223\"/>\n     <use style=\"fill:#0000ff;stroke:#0000ff;\" x=\"354.886506\" xlink:href=\"#mc2dfd0c305\" y=\"21.620975\"/>\n     <use style=\"fill:#0000ff;stroke:#0000ff;\" x=\"221.699314\" xlink:href=\"#mc2dfd0c305\" y=\"104.001206\"/>\n     <use style=\"fill:#0000ff;stroke:#0000ff;\" x=\"227.108164\" xlink:href=\"#mc2dfd0c305\" y=\"114.351236\"/>\n     <use style=\"fill:#0000ff;stroke:#0000ff;\" x=\"274.266159\" xlink:href=\"#mc2dfd0c305\" y=\"63.100807\"/>\n     <use style=\"fill:#0000ff;stroke:#0000ff;\" x=\"262.125317\" xlink:href=\"#mc2dfd0c305\" y=\"77.742659\"/>\n     <use style=\"fill:#0000ff;stroke:#0000ff;\" x=\"216.873397\" xlink:href=\"#mc2dfd0c305\" y=\"79.858904\"/>\n     <use style=\"fill:#0000ff;stroke:#0000ff;\" x=\"187.57671\" xlink:href=\"#mc2dfd0c305\" y=\"117.085753\"/>\n     <use style=\"fill:#0000ff;stroke:#0000ff;\" x=\"288.257421\" xlink:href=\"#mc2dfd0c305\" y=\"58.440258\"/>\n     <use style=\"fill:#0000ff;stroke:#0000ff;\" x=\"261.488841\" xlink:href=\"#mc2dfd0c305\" y=\"84.52801\"/>\n     <use style=\"fill:#0000ff;stroke:#0000ff;\" x=\"239.671862\" xlink:href=\"#mc2dfd0c305\" y=\"77.15873\"/>\n     <use style=\"fill:#0000ff;stroke:#0000ff;\" x=\"129.840414\" xlink:href=\"#mc2dfd0c305\" y=\"166.780813\"/>\n     <use style=\"fill:#0000ff;stroke:#0000ff;\" x=\"225.692646\" xlink:href=\"#mc2dfd0c305\" y=\"75.917463\"/>\n     <use style=\"fill:#0000ff;stroke:#0000ff;\" x=\"182.871047\" xlink:href=\"#mc2dfd0c305\" y=\"97.397627\"/>\n     <use style=\"fill:#0000ff;stroke:#0000ff;\" x=\"241.484374\" xlink:href=\"#mc2dfd0c305\" y=\"108.664948\"/>\n     <use style=\"fill:#0000ff;stroke:#0000ff;\" x=\"178.68205\" xlink:href=\"#mc2dfd0c305\" y=\"130.621137\"/>\n     <use style=\"fill:#0000ff;stroke:#0000ff;\" x=\"284.895355\" xlink:href=\"#mc2dfd0c305\" y=\"46.341953\"/>\n     <use style=\"fill:#0000ff;stroke:#0000ff;\" x=\"237.033695\" xlink:href=\"#mc2dfd0c305\" y=\"86.796174\"/>\n     <use style=\"fill:#0000ff;stroke:#0000ff;\" x=\"217.660388\" xlink:href=\"#mc2dfd0c305\" y=\"112.021897\"/>\n     <use style=\"fill:#0000ff;stroke:#0000ff;\" x=\"246.565762\" xlink:href=\"#mc2dfd0c305\" y=\"52.606289\"/>\n     <use style=\"fill:#0000ff;stroke:#0000ff;\" x=\"279.589939\" xlink:href=\"#mc2dfd0c305\" y=\"41.731313\"/>\n     <use style=\"fill:#0000ff;stroke:#0000ff;\" x=\"185.934533\" xlink:href=\"#mc2dfd0c305\" y=\"97.254042\"/>\n     <use style=\"fill:#0000ff;stroke:#0000ff;\" x=\"169.568629\" xlink:href=\"#mc2dfd0c305\" y=\"145.45223\"/>\n    </g>\n   </g>\n   <g id=\"line2d_16\">\n    <path clip-path=\"url(#p61db895803)\" d=\"M 101.025924 166.87418 \nL 212.75094 100.950789 \nL 294.310634 52.826454 \nL 200.58381 108.130009 \nL 153.769439 135.752847 \nL 173.693125 123.996867 \nL 195.190295 111.312454 \nL 150.227393 137.842833 \nL 50.522869 196.673528 \nL 233.111359 88.937114 \nL 196.959247 110.268684 \nL 251.305223 78.201816 \nL 272.519604 65.684264 \nL 233.860467 88.495103 \nL 294.662797 52.618665 \nL 223.481309 94.61933 \nL 215.85895 99.116906 \nL 162.017235 130.886233 \nL 215.650136 99.240116 \nL 213.932836 100.25341 \nL 133.610096 147.647877 \nL 163.80932 129.828812 \nL 230.410758 90.530605 \nL 248.333696 79.955169 \nL 294.463182 52.736445 \nL 168.733124 126.92352 \nL 129.301475 150.190183 \nL 275.199909 64.102748 \nL 354.886506 17.083636 \nL 221.699314 95.670796 \nL 227.108164 92.479302 \nL 274.266159 64.653707 \nL 262.125317 71.817417 \nL 216.873397 98.518331 \nL 187.57671 115.804853 \nL 288.257421 56.39816 \nL 261.488841 72.192968 \nL 239.671862 85.066086 \nL 129.840414 149.872178 \nL 225.692646 93.314529 \nL 182.871047 118.581431 \nL 241.484374 83.996614 \nL 178.68205 121.053151 \nL 284.895355 58.381945 \nL 237.033695 86.622738 \nL 217.660388 98.053967 \nL 246.565762 80.998338 \nL 279.589939 61.512408 \nL 185.934533 116.773821 \nL 169.568629 126.430528 \n\" style=\"fill:none;stroke:#ff0000;stroke-linecap:square;stroke-width:1.5;\"/>\n   </g>\n   <g id=\"patch_3\">\n    <path d=\"M 35.304688 224.64 \nL 35.304688 7.2 \n\" style=\"fill:none;stroke:#000000;stroke-linecap:square;stroke-linejoin:miter;stroke-width:0.8;\"/>\n   </g>\n   <g id=\"patch_4\">\n    <path d=\"M 370.104688 224.64 \nL 370.104688 7.2 \n\" style=\"fill:none;stroke:#000000;stroke-linecap:square;stroke-linejoin:miter;stroke-width:0.8;\"/>\n   </g>\n   <g id=\"patch_5\">\n    <path d=\"M 35.304687 224.64 \nL 370.104688 224.64 \n\" style=\"fill:none;stroke:#000000;stroke-linecap:square;stroke-linejoin:miter;stroke-width:0.8;\"/>\n   </g>\n   <g id=\"patch_6\">\n    <path d=\"M 35.304687 7.2 \nL 370.104688 7.2 \n\" style=\"fill:none;stroke:#000000;stroke-linecap:square;stroke-linejoin:miter;stroke-width:0.8;\"/>\n   </g>\n  </g>\n </g>\n <defs>\n  <clipPath id=\"p61db895803\">\n   <rect height=\"217.44\" width=\"334.8\" x=\"35.304688\" y=\"7.2\"/>\n  </clipPath>\n </defs>\n</svg>\n",
      "image/png": "[encoded data removed]"
     },
     "metadata": {
      "needs_background": "light"
     }
    }
   ],
   "metadata": {}
  },
  {
   "cell_type": "code",
   "execution_count": null,
   "source": [],
   "outputs": [],
   "metadata": {}
  }
 ],
 "metadata": {
  "orig_nbformat": 4,
  "language_info": {
   "name": "python",
   "version": "3.9.5",
   "mimetype": "text/x-python",
   "codemirror_mode": {
    "name": "ipython",
    "version": 3
   },
   "pygments_lexer": "ipython3",
   "nbconvert_exporter": "python",
   "file_extension": ".py"
  },
  "kernelspec": {
   "name": "python3",
   "display_name": "Python 3.9.5 64-bit ('Pytorch_Intro-tTLkiOo3': pipenv)"
  },
  "interpreter": {
   "hash": "2dcc0e8861c3ac3e9ce0aee99191a4c13ff6b8d1fd5b0c82dfaa231f15b68aa4"
  }
 },
 "nbformat": 4,
 "nbformat_minor": 2
}