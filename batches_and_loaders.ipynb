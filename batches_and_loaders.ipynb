{
 "cells": [
  {
   "cell_type": "markdown",
   "source": [
    "# Batches and dataloaders\n",
    "\n",
    "One of the handy options about using pytorch is that it can handle batches almost automatically.\n",
    "\n",
    "This is useful because instead of doing the optimization step over all the dataset we can do it over the batches.\n",
    "\n",
    "Also we will look in a way to prevent overfitting, using splits of the data, train, validation and test."
   ],
   "metadata": {}
  },
  {
   "cell_type": "code",
   "execution_count": 2,
   "source": [
    "import torch \n",
    "import torchvision\n",
    "from torch.utils.data import Dataset, DataLoader\n",
    "import numpy as np\n",
    "from sklearn.datasets import load_wine"
   ],
   "outputs": [],
   "metadata": {}
  },
  {
   "cell_type": "code",
   "execution_count": 5,
   "source": [
    "X, y = load_wine(return_X_y=True)\n",
    "print(f\"X shape: {X.shape}\") #samples, features\n",
    "print(f\"y shape: {y.shape}\") "
   ],
   "outputs": [
    {
     "output_type": "stream",
     "name": "stdout",
     "text": [
      "X shape: (178, 13)\n",
      "y shape: (178,)\n"
     ]
    }
   ],
   "metadata": {}
  },
  {
   "cell_type": "markdown",
   "source": [
    "We can use pytorch to load our data in a smart way:\n",
    "\n",
    "1. We will create a Dataset object inheriting the Dataset module.\n",
    "2. We will define 3 main functions inside of it:\n",
    "    1. **init:** constructor of the class\n",
    "    2. **getitem:** we will have the ability to select entries of the tensor\n",
    "    3. **len:** it will return the size of the object"
   ],
   "metadata": {}
  },
  {
   "cell_type": "code",
   "execution_count": 11,
   "source": [
    "class WineData(Dataset):\n",
    "    def __init__(self):\n",
    "        x, y = load_wine(return_X_y=True)\n",
    "        self.x = torch.from_numpy(x.astype(np.float32)) #remember that float32 is the standard dtype in torch\n",
    "        self.y = torch.from_numpy(y[:,np.newaxis].astype(np.float32)) #pytorch doesnt like empty axis (x,) -> (x,1)\n",
    "        self.n_samples = x.shape[0]\n",
    "    def __getitem__(self,index):\n",
    "        return self.x[index], self.y[index]\n",
    "    def __len__(self):\n",
    "        return self.n_samples"
   ],
   "outputs": [],
   "metadata": {}
  },
  {
   "cell_type": "code",
   "execution_count": 14,
   "source": [
    "dataset = WineData()\n",
    "dataset[0]"
   ],
   "outputs": [
    {
     "output_type": "execute_result",
     "data": {
      "text/plain": [
       "(tensor([1.4230e+01, 1.7100e+00, 2.4300e+00, 1.5600e+01, 1.2700e+02, 2.8000e+00,\n",
       "         3.0600e+00, 2.8000e-01, 2.2900e+00, 5.6400e+00, 1.0400e+00, 3.9200e+00,\n",
       "         1.0650e+03]),\n",
       " tensor([0.]))"
      ]
     },
     "metadata": {},
     "execution_count": 14
    }
   ],
   "metadata": {}
  },
  {
   "cell_type": "markdown",
   "source": [
    "## Why we did all of this? \n",
    "\n",
    "Well, now that we have a dataset object we can use the dataloader from torch to work directly with batches, and shuffling the data on the go."
   ],
   "metadata": {}
  },
  {
   "cell_type": "code",
   "execution_count": 15,
   "source": [
    "dataloader = DataLoader(dataset=dataset,batch_size=6,shuffle=True)"
   ],
   "outputs": [],
   "metadata": {}
  }
 ],
 "metadata": {
  "orig_nbformat": 4,
  "language_info": {
   "name": "python",
   "version": "3.9.5",
   "mimetype": "text/x-python",
   "codemirror_mode": {
    "name": "ipython",
    "version": 3
   },
   "pygments_lexer": "ipython3",
   "nbconvert_exporter": "python",
   "file_extension": ".py"
  },
  "kernelspec": {
   "name": "python3",
   "display_name": "Python 3.9.5 64-bit ('Pytorch_Intro-tTLkiOo3': pipenv)"
  },
  "interpreter": {
   "hash": "2dcc0e8861c3ac3e9ce0aee99191a4c13ff6b8d1fd5b0c82dfaa231f15b68aa4"
  }
 },
 "nbformat": 4,
 "nbformat_minor": 2
}