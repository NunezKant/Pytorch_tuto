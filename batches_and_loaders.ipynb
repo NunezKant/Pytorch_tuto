{
 "cells": [
  {
   "cell_type": "markdown",
   "source": [
    "# Batches and dataloaders\n",
    "\n",
    "One of the handy options about using pytorch is that it can handle batches almost automatically.\n",
    "\n",
    "This is useful because instead of doing the optimization step over all the dataset we can do it over the batches.\n",
    "\n",
    "Also we will look in a way to prevent overfitting, using splits of the data, train, validation and test."
   ],
   "metadata": {}
  },
  {
   "cell_type": "code",
   "execution_count": 29,
   "source": [
    "import torch \n",
    "import torchvision\n",
    "import torchvision.transforms as transforms\n",
    "from torch.utils.data import Dataset, DataLoader\n",
    "import numpy as np\n",
    "from sklearn.datasets import load_wine\n",
    "import torch.nn as nn "
   ],
   "outputs": [],
   "metadata": {}
  },
  {
   "cell_type": "code",
   "execution_count": 2,
   "source": [
    "X, y = load_wine(return_X_y=True)\n",
    "print(f\"X shape: {X.shape}\") #samples, features\n",
    "print(f\"y shape: {y.shape}\") "
   ],
   "outputs": [
    {
     "output_type": "stream",
     "name": "stdout",
     "text": [
      "X shape: (178, 13)\n",
      "y shape: (178,)\n"
     ]
    }
   ],
   "metadata": {}
  },
  {
   "cell_type": "markdown",
   "source": [
    "We can use pytorch to load our data in a smart way:\n",
    "\n",
    "1. We will create a Dataset object inheriting the Dataset module.\n",
    "2. We will define 3 main functions inside of it:\n",
    "    1. **init:** constructor of the class\n",
    "    2. **getitem:** we will have the ability to select entries of the tensor\n",
    "    3. **len:** it will return the size of the object"
   ],
   "metadata": {}
  },
  {
   "cell_type": "code",
   "execution_count": 4,
   "source": [
    "class WineData(Dataset):\n",
    "    def __init__(self):\n",
    "        x, y = load_wine(return_X_y=True)\n",
    "        self.x = torch.from_numpy(x.astype(np.float32)) #remember that float32 is the standard dtype in torch\n",
    "        self.y = torch.from_numpy(y[:,np.newaxis].astype(np.float32)) #pytorch doesnt like empty axis (x,) -> (x,1)\n",
    "        self.n_samples = x.shape[0]\n",
    "    def __getitem__(self,index):\n",
    "        return self.x[index], self.y[index]\n",
    "    def __len__(self):\n",
    "        return self.n_samples"
   ],
   "outputs": [],
   "metadata": {}
  },
  {
   "cell_type": "code",
   "execution_count": 5,
   "source": [
    "dataset = WineData()\n",
    "dataset[0]"
   ],
   "outputs": [
    {
     "output_type": "execute_result",
     "data": {
      "text/plain": [
       "(tensor([1.4230e+01, 1.7100e+00, 2.4300e+00, 1.5600e+01, 1.2700e+02, 2.8000e+00,\n",
       "         3.0600e+00, 2.8000e-01, 2.2900e+00, 5.6400e+00, 1.0400e+00, 3.9200e+00,\n",
       "         1.0650e+03]),\n",
       " tensor([0.]))"
      ]
     },
     "metadata": {},
     "execution_count": 5
    }
   ],
   "metadata": {}
  },
  {
   "cell_type": "markdown",
   "source": [
    "## Why we did all of this? \n",
    "\n",
    "Well, now that we have a dataset object we can use the dataloader from torch to work directly with batches, and shuffling the data on the go."
   ],
   "metadata": {}
  },
  {
   "cell_type": "code",
   "execution_count": 13,
   "source": [
    "dataloader = DataLoader(dataset=dataset,batch_size=6,shuffle=True)"
   ],
   "outputs": [],
   "metadata": {}
  },
  {
   "cell_type": "code",
   "execution_count": 26,
   "source": [
    "num_epochs = 3"
   ],
   "outputs": [],
   "metadata": {}
  },
  {
   "cell_type": "code",
   "execution_count": 27,
   "source": [
    "for epoch in range(num_epochs):\n",
    "    for i, (inputs,labels) in enumerate(dataloader):\n",
    "        if (i+1) % 10 == 0:\n",
    "            print(f'epoch: {epoch+1}/{num_epochs}')\n",
    "            print(f'step: {i+1}')"
   ],
   "outputs": [
    {
     "output_type": "stream",
     "name": "stdout",
     "text": [
      "epoch: 1/3\n",
      "step: 10\n",
      "epoch: 1/3\n",
      "step: 20\n",
      "epoch: 1/3\n",
      "step: 30\n",
      "epoch: 2/3\n",
      "step: 10\n",
      "epoch: 2/3\n",
      "step: 20\n",
      "epoch: 2/3\n",
      "step: 30\n",
      "epoch: 3/3\n",
      "step: 10\n",
      "epoch: 3/3\n",
      "step: 20\n",
      "epoch: 3/3\n",
      "step: 30\n"
     ]
    }
   ],
   "metadata": {}
  },
  {
   "cell_type": "markdown",
   "source": [
    "# Full Feedforward net example \n",
    "\n",
    "### First we will set up our device:"
   ],
   "metadata": {}
  },
  {
   "cell_type": "code",
   "execution_count": 30,
   "source": [
    "device = torch.device('cuda' if torch.cuda.is_available() else 'cpu')"
   ],
   "outputs": [],
   "metadata": {}
  },
  {
   "cell_type": "markdown",
   "source": [
    "We will use the MNIST dataset since it is easy to load it."
   ],
   "metadata": {}
  },
  {
   "cell_type": "code",
   "execution_count": 31,
   "source": [
    "train_data = torchvision.datasets.MNIST(root='./dataset', \n",
    "train = True, transform = transforms.ToTensor(), download = True)"
   ],
   "outputs": [
    {
     "output_type": "stream",
     "name": "stderr",
     "text": [
      "0.5%"
     ]
    },
    {
     "output_type": "stream",
     "name": "stdout",
     "text": [
      "Downloading http://yann.lecun.com/exdb/mnist/train-images-idx3-ubyte.gz\n",
      "Downloading http://yann.lecun.com/exdb/mnist/train-images-idx3-ubyte.gz to ./dataset/MNIST/raw/train-images-idx3-ubyte.gz\n"
     ]
    },
    {
     "output_type": "stream",
     "name": "stderr",
     "text": [
      "100.0%\n"
     ]
    },
    {
     "output_type": "stream",
     "name": "stdout",
     "text": [
      "Extracting ./dataset/MNIST/raw/train-images-idx3-ubyte.gz to ./dataset/MNIST/raw\n"
     ]
    },
    {
     "output_type": "stream",
     "name": "stderr",
     "text": [
      "102.8%\n",
      "2.8%"
     ]
    },
    {
     "output_type": "stream",
     "name": "stdout",
     "text": [
      "\n",
      "Downloading http://yann.lecun.com/exdb/mnist/train-labels-idx1-ubyte.gz\n",
      "Downloading http://yann.lecun.com/exdb/mnist/train-labels-idx1-ubyte.gz to ./dataset/MNIST/raw/train-labels-idx1-ubyte.gz\n",
      "Extracting ./dataset/MNIST/raw/train-labels-idx1-ubyte.gz to ./dataset/MNIST/raw\n",
      "\n",
      "Downloading http://yann.lecun.com/exdb/mnist/t10k-images-idx3-ubyte.gz\n",
      "Downloading http://yann.lecun.com/exdb/mnist/t10k-images-idx3-ubyte.gz to ./dataset/MNIST/raw/t10k-images-idx3-ubyte.gz\n"
     ]
    },
    {
     "output_type": "stream",
     "name": "stderr",
     "text": [
      "100.0%\n",
      "112.7%\n",
      "/home/mano/.local/share/virtualenvs/Pytorch_Intro-tTLkiOo3/lib/python3.9/site-packages/torchvision/datasets/mnist.py:498: UserWarning: The given NumPy array is not writeable, and PyTorch does not support non-writeable tensors. This means you can write to the underlying (supposedly non-writeable) NumPy array using the tensor. You may want to copy the array to protect its data or make it writeable before converting it to a tensor. This type of warning will be suppressed for the rest of this program. (Triggered internally at  /pytorch/torch/csrc/utils/tensor_numpy.cpp:180.)\n",
      "  return torch.from_numpy(parsed.astype(m[2], copy=False)).view(*s)\n"
     ]
    },
    {
     "output_type": "stream",
     "name": "stdout",
     "text": [
      "Extracting ./dataset/MNIST/raw/t10k-images-idx3-ubyte.gz to ./dataset/MNIST/raw\n",
      "\n",
      "Downloading http://yann.lecun.com/exdb/mnist/t10k-labels-idx1-ubyte.gz\n",
      "Downloading http://yann.lecun.com/exdb/mnist/t10k-labels-idx1-ubyte.gz to ./dataset/MNIST/raw/t10k-labels-idx1-ubyte.gz\n",
      "Extracting ./dataset/MNIST/raw/t10k-labels-idx1-ubyte.gz to ./dataset/MNIST/raw\n",
      "\n"
     ]
    }
   ],
   "metadata": {}
  },
  {
   "cell_type": "code",
   "execution_count": 32,
   "source": [
    "test_data = torchvision.datasets.MNIST(root='./dataset', \n",
    "train = False, transform = transforms.ToTensor())"
   ],
   "outputs": [],
   "metadata": {}
  },
  {
   "cell_type": "markdown",
   "source": [
    "We will set up all our hyperparameters and use a DataLoader:"
   ],
   "metadata": {}
  },
  {
   "cell_type": "code",
   "execution_count": 33,
   "source": [
    "input_size = 784 # we know that images are 28x28\n",
    "hidden_size = 20\n",
    "n_class = 10 # 10 digits\n",
    "n_epochs = 4\n",
    "batch_size = 50\n",
    "lr = 0.001"
   ],
   "outputs": [],
   "metadata": {}
  },
  {
   "cell_type": "code",
   "execution_count": 34,
   "source": [
    "train_loader = torch.utils.data.DataLoader(dataset=train_data,\n",
    "batch_size = batch_size, shuffle= True)\n",
    "\n",
    "test_loader = torch.utils.data.DataLoader(dataset=test_data,\n",
    "batch_size = batch_size, shuffle= False)"
   ],
   "outputs": [],
   "metadata": {}
  },
  {
   "cell_type": "markdown",
   "source": [
    "Lets verify our data with a visualization, DataLoader object is a iterator so:"
   ],
   "metadata": {}
  },
  {
   "cell_type": "code",
   "execution_count": 42,
   "source": [
    "import matplotlib.pyplot as plt\n",
    "data = iter(train_loader)\n",
    "samples, labels = data.next() # we unpack next values\n",
    "for i in range(3):\n",
    "    plt.subplot(1,3,i+1)\n",
    "    plt.imshow(samples[i,0],cmap='gray')"
   ],
   "outputs": [
    {
     "output_type": "display_data",
     "data": {
      "text/plain": [
       "<Figure size 432x288 with 3 Axes>"
      ],
      "image/svg+xml": "<?xml version=\"1.0\" encoding=\"utf-8\" standalone=\"no\"?>\n<!DOCTYPE svg PUBLIC \"-//W3C//DTD SVG 1.1//EN\"\n  \"http://www.w3.org/Graphics/SVG/1.1/DTD/svg11.dtd\">\n<svg height=\"131.589529pt\" version=\"1.1\" viewBox=\"0 0 368.925 131.589529\" width=\"368.925pt\" xmlns=\"http://www.w3.org/2000/svg\" xmlns:xlink=\"http://www.w3.org/1999/xlink\">\n <metadata>\n  <rdf:RDF xmlns:cc=\"http://creativecommons.org/ns#\" xmlns:dc=\"http://purl.org/dc/elements/1.1/\" xmlns:rdf=\"http://www.w3.org/1999/02/22-rdf-syntax-ns#\">\n   <cc:Work>\n    <dc:type rdf:resource=\"http://purl.org/dc/dcmitype/StillImage\"/>\n    <dc:date>2021-09-05T22:41:09.871073</dc:date>\n    <dc:format>image/svg+xml</dc:format>\n    <dc:creator>\n     <cc:Agent>\n      <dc:title>Matplotlib v3.4.3, https://matplotlib.org/</dc:title>\n     </cc:Agent>\n    </dc:creator>\n   </cc:Work>\n  </rdf:RDF>\n </metadata>\n <defs>\n  <style type=\"text/css\">*{stroke-linecap:butt;stroke-linejoin:round;}</style>\n </defs>\n <g id=\"figure_1\">\n  <g id=\"patch_1\">\n   <path d=\"M -0 131.589529 \nL 368.925 131.589529 \nL 368.925 0 \nL -0 0 \nz\n\" style=\"fill:none;\"/>\n  </g>\n  <g id=\"axes_1\">\n   <g id=\"patch_2\">\n    <path d=\"M 26.925 107.711404 \nL 125.395588 107.711404 \nL 125.395588 9.240815 \nL 26.925 9.240815 \nz\n\" style=\"fill:#ffffff;\"/>\n   </g>\n   <g clip-path=\"url(#p970808c995)\">\n    <image height=\"99\" id=\"image55dfcc18b2\" transform=\"scale(1 -1)translate(0 -99)\" width=\"99\" x=\"26.925\" xlink:href=\"data:image/png;base64,\niVBORw0KGgoAAAANSUhEUgAAAGMAAABjCAYAAACPO76VAAAED0lEQVR4nO2cyytuURjGFw4l94EZkcwYSSglZSAThWJgokwMiDIgMnItQ8VQbpmIFDFiRCET5Q+QMDBxGcgtZ/Z639Vx+s7X3vt7Oj2/0bN6vnPWqse799prrb2TnHNfjkCQnOgBkG8YBhAMAwiGAQTDAIJhAMEwgGAYQDAMIBgGEAwDCIYBBMMA4leiB6ApLy837ePjY9HPz8/Gq6ysFH13dxfuwCKClQEEwwCCYQABdc8oLCw07czMzD9q55zLyckRzXsGCRyGAUSSAzqQUFxcbNqHh4eii4qKjHdyciK6sbHReE9PT8EPLgJYGUAwDCAYBhBQ9wwfvTxycXHx4+8mJydNe2xsLLQxhQkrAwiGAQT0ZSo5+ftvZWhoyHj60vTx8WG8+vp609arv8iwMoBgGEAwDCCgVm19UlJSRB8dHRnv4eFBdG5urvH8qW1PT4/oq6ur4AYYMKwMIBgGEKFMbdPS0ky7oaFB9MjIiPEKCgp+/H/01DYvL894/mbT3zg9PRVdU1MT87+LGlYGEAwDCIYBRCj3jOHhYdOempoKuot/Qu/8tbS0GE/vJiYaVgYQDAOIUJ7AS0pKYv6tPlhwdnZmvNfXV9GLi4vG09Pe0dFR43V0dJh2dna26K2tLePps1r+ed6oYWUAwTCAYBhAhDK1LS0tNe3Ly0vRqampxpubmxPd398fSP+zs7OmPTg4+ONv9VR3e3s7kP7jhZUBBMMAgmEAEcnpEP0cMD4+brz393fRCwsLxhsYGIirv/z8fNM+ODgQXVZWZrybmxvR/vNJ1KdKWBlAMAwgIrlM6QMD+/v7xquqqhL99WWHMj8/L7qvry/u/mM9s9vZ2Wna6+vrcfcZD6wMIBgGEAwDiMgPPvvTzr29PdEVFRXGe3x8FO2fDvkXMjIyRC8tLRmvtbVV9Pn5ufHq6upEv7y8xN1/rLAygGAYQCT8/YympibRGxsbxktPTxftr8T672vEin/A7v7+XnRWVpbx2traRPs7hGHAygCCYQDBMIBI+PsZemrr78jpVdzq6upA+nt7ezNtfYitubnZeO3t7aL1KRbnnLu9vQ1kPBpWBhAMA4iEX6Y0/ite/ipuGOjVYD3Nds5uNu3s7BhvbW0t8LGwMoBgGEAwDCCg7hk++jMUq6urofRxfX0tenl52Xjd3d2iu7q6jMd7xn8OwwAi4au2Gr0J5Jydds7MzITev/868+bmpuja2lrjTU9Pi56YmAikf1YGEAwDCIYBBNQ9Aw29Ury7u2s8/S12/8tv/heAYoWVAQTDAAL6CTzR6A2l3t5e462srIj+/PwMpD9WBhAMAwiGAQSntkCwMoBgGEAwDCAYBhAMAwiGAQTDAIJhAMEwgGAYQDAMIBgGEAwDiN8VMuq3hrr8YgAAAABJRU5ErkJggg==\" y=\"-8.711404\"/>\n   </g>\n   <g id=\"matplotlib.axis_1\">\n    <g id=\"xtick_1\">\n     <g id=\"line2d_1\">\n      <defs>\n       <path d=\"M 0 0 \nL 0 3.5 \n\" id=\"m312f643fe3\" style=\"stroke:#000000;stroke-width:0.8;\"/>\n      </defs>\n      <g>\n       <use style=\"stroke:#000000;stroke-width:0.8;\" x=\"28.683403\" xlink:href=\"#m312f643fe3\" y=\"107.711404\"/>\n      </g>\n     </g>\n     <g id=\"text_1\">\n      <!-- 0 -->\n      <g transform=\"translate(25.502153 122.309841)scale(0.1 -0.1)\">\n       <defs>\n        <path d=\"M 2034 4250 \nQ 1547 4250 1301 3770 \nQ 1056 3291 1056 2328 \nQ 1056 1369 1301 889 \nQ 1547 409 2034 409 \nQ 2525 409 2770 889 \nQ 3016 1369 3016 2328 \nQ 3016 3291 2770 3770 \nQ 2525 4250 2034 4250 \nz\nM 2034 4750 \nQ 2819 4750 3233 4129 \nQ 3647 3509 3647 2328 \nQ 3647 1150 3233 529 \nQ 2819 -91 2034 -91 \nQ 1250 -91 836 529 \nQ 422 1150 422 2328 \nQ 422 3509 836 4129 \nQ 1250 4750 2034 4750 \nz\n\" id=\"DejaVuSans-30\" transform=\"scale(0.015625)\"/>\n       </defs>\n       <use xlink:href=\"#DejaVuSans-30\"/>\n      </g>\n     </g>\n    </g>\n    <g id=\"xtick_2\">\n     <g id=\"line2d_2\">\n      <g>\n       <use style=\"stroke:#000000;stroke-width:0.8;\" x=\"63.851471\" xlink:href=\"#m312f643fe3\" y=\"107.711404\"/>\n      </g>\n     </g>\n     <g id=\"text_2\">\n      <!-- 10 -->\n      <g transform=\"translate(57.488971 122.309841)scale(0.1 -0.1)\">\n       <defs>\n        <path d=\"M 794 531 \nL 1825 531 \nL 1825 4091 \nL 703 3866 \nL 703 4441 \nL 1819 4666 \nL 2450 4666 \nL 2450 531 \nL 3481 531 \nL 3481 0 \nL 794 0 \nL 794 531 \nz\n\" id=\"DejaVuSans-31\" transform=\"scale(0.015625)\"/>\n       </defs>\n       <use xlink:href=\"#DejaVuSans-31\"/>\n       <use x=\"63.623047\" xlink:href=\"#DejaVuSans-30\"/>\n      </g>\n     </g>\n    </g>\n    <g id=\"xtick_3\">\n     <g id=\"line2d_3\">\n      <g>\n       <use style=\"stroke:#000000;stroke-width:0.8;\" x=\"99.019538\" xlink:href=\"#m312f643fe3\" y=\"107.711404\"/>\n      </g>\n     </g>\n     <g id=\"text_3\">\n      <!-- 20 -->\n      <g transform=\"translate(92.657038 122.309841)scale(0.1 -0.1)\">\n       <defs>\n        <path d=\"M 1228 531 \nL 3431 531 \nL 3431 0 \nL 469 0 \nL 469 531 \nQ 828 903 1448 1529 \nQ 2069 2156 2228 2338 \nQ 2531 2678 2651 2914 \nQ 2772 3150 2772 3378 \nQ 2772 3750 2511 3984 \nQ 2250 4219 1831 4219 \nQ 1534 4219 1204 4116 \nQ 875 4013 500 3803 \nL 500 4441 \nQ 881 4594 1212 4672 \nQ 1544 4750 1819 4750 \nQ 2544 4750 2975 4387 \nQ 3406 4025 3406 3419 \nQ 3406 3131 3298 2873 \nQ 3191 2616 2906 2266 \nQ 2828 2175 2409 1742 \nQ 1991 1309 1228 531 \nz\n\" id=\"DejaVuSans-32\" transform=\"scale(0.015625)\"/>\n       </defs>\n       <use xlink:href=\"#DejaVuSans-32\"/>\n       <use x=\"63.623047\" xlink:href=\"#DejaVuSans-30\"/>\n      </g>\n     </g>\n    </g>\n   </g>\n   <g id=\"matplotlib.axis_2\">\n    <g id=\"ytick_1\">\n     <g id=\"line2d_4\">\n      <defs>\n       <path d=\"M 0 0 \nL -3.5 0 \n\" id=\"m8f2902bb02\" style=\"stroke:#000000;stroke-width:0.8;\"/>\n      </defs>\n      <g>\n       <use style=\"stroke:#000000;stroke-width:0.8;\" x=\"26.925\" xlink:href=\"#m8f2902bb02\" y=\"10.999219\"/>\n      </g>\n     </g>\n     <g id=\"text_4\">\n      <!-- 0 -->\n      <g transform=\"translate(13.5625 14.798437)scale(0.1 -0.1)\">\n       <use xlink:href=\"#DejaVuSans-30\"/>\n      </g>\n     </g>\n    </g>\n    <g id=\"ytick_2\">\n     <g id=\"line2d_5\">\n      <g>\n       <use style=\"stroke:#000000;stroke-width:0.8;\" x=\"26.925\" xlink:href=\"#m8f2902bb02\" y=\"46.167286\"/>\n      </g>\n     </g>\n     <g id=\"text_5\">\n      <!-- 10 -->\n      <g transform=\"translate(7.2 49.966505)scale(0.1 -0.1)\">\n       <use xlink:href=\"#DejaVuSans-31\"/>\n       <use x=\"63.623047\" xlink:href=\"#DejaVuSans-30\"/>\n      </g>\n     </g>\n    </g>\n    <g id=\"ytick_3\">\n     <g id=\"line2d_6\">\n      <g>\n       <use style=\"stroke:#000000;stroke-width:0.8;\" x=\"26.925\" xlink:href=\"#m8f2902bb02\" y=\"81.335353\"/>\n      </g>\n     </g>\n     <g id=\"text_6\">\n      <!-- 20 -->\n      <g transform=\"translate(7.2 85.134572)scale(0.1 -0.1)\">\n       <use xlink:href=\"#DejaVuSans-32\"/>\n       <use x=\"63.623047\" xlink:href=\"#DejaVuSans-30\"/>\n      </g>\n     </g>\n    </g>\n   </g>\n   <g id=\"patch_3\">\n    <path d=\"M 26.925 107.711404 \nL 26.925 9.240815 \n\" style=\"fill:none;stroke:#000000;stroke-linecap:square;stroke-linejoin:miter;stroke-width:0.8;\"/>\n   </g>\n   <g id=\"patch_4\">\n    <path d=\"M 125.395588 107.711404 \nL 125.395588 9.240815 \n\" style=\"fill:none;stroke:#000000;stroke-linecap:square;stroke-linejoin:miter;stroke-width:0.8;\"/>\n   </g>\n   <g id=\"patch_5\">\n    <path d=\"M 26.925 107.711404 \nL 125.395588 107.711404 \n\" style=\"fill:none;stroke:#000000;stroke-linecap:square;stroke-linejoin:miter;stroke-width:0.8;\"/>\n   </g>\n   <g id=\"patch_6\">\n    <path d=\"M 26.925 9.240815 \nL 125.395588 9.240815 \n\" style=\"fill:none;stroke:#000000;stroke-linecap:square;stroke-linejoin:miter;stroke-width:0.8;\"/>\n   </g>\n  </g>\n  <g id=\"axes_2\">\n   <g id=\"patch_7\">\n    <path d=\"M 145.089706 107.711404 \nL 243.560294 107.711404 \nL 243.560294 9.240815 \nL 145.089706 9.240815 \nz\n\" style=\"fill:#ffffff;\"/>\n   </g>\n   <g clip-path=\"url(#pe01b639b92)\">\n    <image height=\"99\" id=\"imaged580cd96ca\" transform=\"scale(1 -1)translate(0 -99)\" width=\"99\" x=\"145.089706\" xlink:href=\"data:image/png;base64,\niVBORw0KGgoAAAANSUhEUgAAAGMAAABjCAYAAACPO76VAAAETElEQVR4nO2cTyhtaxjG38NNGQhRpBgoRopkYOTvhJBCJBEjomSAgRIxxkCYSsxEKClGDJQ/IyTJACmkKCL/7+w937s7293Xse3nnvv8Rs/Xc87y5Xe+b62191rnh4i8C4EgKNATID+hDCAoAwjKAIIygKAMICgDCMoAgjKAoAwgKAMIygCCMoCgDCAoAwjKAIIygKAMICgDCMoAgjKAoAwgKAMIygDiL38ctKSkxIzLyso0b2xsmG57e9tr93+DKwMIygDih/jhWdvn52czDg4O9vpnX19fNd/f35uut7dX8+joqOkeHx9/Y4a+ERISojk7O9t0WVlZmmNjY0339vamubu723SXl5defx5XBhCUAQRlAOGXc8bOzo4Zp6SkaG5sbDRdXFyc5tLSUtOlpaVpvrm5MV1fX5/mmZkZ0x0fH3udW2hoqBnX19drrqioMF16errmiIgI072///y1uecIEZGDgwPNp6enpisoKPA6N64MICgDCL9sU7m5uWa8srKieXh42HRtbW2a3UtJEbuFdHZ2mi4xMVHz+vq66SYmJrzOraOjw+txnp6eTLe2tqZ5cHDQdO4nB+6WJSJye3ur2d2iRUS2tra8zo0rAwjKAIIygPDLOcOTzc1NzZ576NLSkubW1lbTuZeF4eHhppucnNRcVFTk81zOzs7MeH5+XnN/f7/pzs/PfT7uV8CVAQRlAPEt21R0dLTmkZER05WXl2v2vMu+u7vzeszIyEjNYWFhPs+lpaXFjMfGxnz+u/6GKwMIygCCMoD4lnPGR1RVVWmurKw0nfttWlRUlOn29/c1e3575vmpbV1dneapqSnT1dbW/ssZ+w+uDCAoAwjKACLg54yPiImJ0ezeV4iIHB0dafZ8GsW9rxGxH7F7HicnJ0fz7u7up+f6FXBlAEEZQPjlWduv4uLi4pf5n7i6ujLjw8NDzYWFhaZLSkrSzG2KKJQBBGUAEfBzRnt7u+aamhrT9fT0aF5cXDTdy8uLzz9jYGBAc15enukyMjI0z87O+nxMf8CVAQRlABHwber6+lpzamqq6ebm5jSPj4+bzv3G8KMHw0REVldXNbt37iJ2mwo0XBlAUAYQlAFEwD+1dd97GBoaMp37LVxQkP13c3Jyojk/P990nucF9x2Qvb0907kP0VVXV/s4a//AlQEEZQAR8Etb98G1hoYG07mvh3le2iYkJGheXl42nbv1iNhXxzxfB3O3u0DDlQEEZQBBGUAE/JzxEQsLC5o938Ho6urSXFxcbLqmpiavx3T/ewwRkYeHh9+Z4pfClQEEZQAR8Dvwz5KcnKzZfbVZRCQ+Pt6M3ctnz/cx3O0u0HBlAEEZQFAGEP/Zc4ZLZmamGbuvE4uITE9Pa25ubv6WOX0GrgwgKAOIP2Kb+lPgygCCMoCgDCAoAwjKAIIygKAMICgDCMoAgjKAoAwgKAMIygCCMoCgDCAoAwjKAOJvRm8QO/jjEwsAAAAASUVORK5CYII=\" y=\"-8.711404\"/>\n   </g>\n   <g id=\"matplotlib.axis_3\">\n    <g id=\"xtick_4\">\n     <g id=\"line2d_7\">\n      <g>\n       <use style=\"stroke:#000000;stroke-width:0.8;\" x=\"146.848109\" xlink:href=\"#m312f643fe3\" y=\"107.711404\"/>\n      </g>\n     </g>\n     <g id=\"text_7\">\n      <!-- 0 -->\n      <g transform=\"translate(143.666859 122.309841)scale(0.1 -0.1)\">\n       <use xlink:href=\"#DejaVuSans-30\"/>\n      </g>\n     </g>\n    </g>\n    <g id=\"xtick_5\">\n     <g id=\"line2d_8\">\n      <g>\n       <use style=\"stroke:#000000;stroke-width:0.8;\" x=\"182.016176\" xlink:href=\"#m312f643fe3\" y=\"107.711404\"/>\n      </g>\n     </g>\n     <g id=\"text_8\">\n      <!-- 10 -->\n      <g transform=\"translate(175.653676 122.309841)scale(0.1 -0.1)\">\n       <use xlink:href=\"#DejaVuSans-31\"/>\n       <use x=\"63.623047\" xlink:href=\"#DejaVuSans-30\"/>\n      </g>\n     </g>\n    </g>\n    <g id=\"xtick_6\">\n     <g id=\"line2d_9\">\n      <g>\n       <use style=\"stroke:#000000;stroke-width:0.8;\" x=\"217.184244\" xlink:href=\"#m312f643fe3\" y=\"107.711404\"/>\n      </g>\n     </g>\n     <g id=\"text_9\">\n      <!-- 20 -->\n      <g transform=\"translate(210.821744 122.309841)scale(0.1 -0.1)\">\n       <use xlink:href=\"#DejaVuSans-32\"/>\n       <use x=\"63.623047\" xlink:href=\"#DejaVuSans-30\"/>\n      </g>\n     </g>\n    </g>\n   </g>\n   <g id=\"matplotlib.axis_4\">\n    <g id=\"ytick_4\">\n     <g id=\"line2d_10\">\n      <g>\n       <use style=\"stroke:#000000;stroke-width:0.8;\" x=\"145.089706\" xlink:href=\"#m8f2902bb02\" y=\"10.999219\"/>\n      </g>\n     </g>\n     <g id=\"text_10\">\n      <!-- 0 -->\n      <g transform=\"translate(131.727206 14.798437)scale(0.1 -0.1)\">\n       <use xlink:href=\"#DejaVuSans-30\"/>\n      </g>\n     </g>\n    </g>\n    <g id=\"ytick_5\">\n     <g id=\"line2d_11\">\n      <g>\n       <use style=\"stroke:#000000;stroke-width:0.8;\" x=\"145.089706\" xlink:href=\"#m8f2902bb02\" y=\"46.167286\"/>\n      </g>\n     </g>\n     <g id=\"text_11\">\n      <!-- 10 -->\n      <g transform=\"translate(125.364706 49.966505)scale(0.1 -0.1)\">\n       <use xlink:href=\"#DejaVuSans-31\"/>\n       <use x=\"63.623047\" xlink:href=\"#DejaVuSans-30\"/>\n      </g>\n     </g>\n    </g>\n    <g id=\"ytick_6\">\n     <g id=\"line2d_12\">\n      <g>\n       <use style=\"stroke:#000000;stroke-width:0.8;\" x=\"145.089706\" xlink:href=\"#m8f2902bb02\" y=\"81.335353\"/>\n      </g>\n     </g>\n     <g id=\"text_12\">\n      <!-- 20 -->\n      <g transform=\"translate(125.364706 85.134572)scale(0.1 -0.1)\">\n       <use xlink:href=\"#DejaVuSans-32\"/>\n       <use x=\"63.623047\" xlink:href=\"#DejaVuSans-30\"/>\n      </g>\n     </g>\n    </g>\n   </g>\n   <g id=\"patch_8\">\n    <path d=\"M 145.089706 107.711404 \nL 145.089706 9.240815 \n\" style=\"fill:none;stroke:#000000;stroke-linecap:square;stroke-linejoin:miter;stroke-width:0.8;\"/>\n   </g>\n   <g id=\"patch_9\">\n    <path d=\"M 243.560294 107.711404 \nL 243.560294 9.240815 \n\" style=\"fill:none;stroke:#000000;stroke-linecap:square;stroke-linejoin:miter;stroke-width:0.8;\"/>\n   </g>\n   <g id=\"patch_10\">\n    <path d=\"M 145.089706 107.711404 \nL 243.560294 107.711404 \n\" style=\"fill:none;stroke:#000000;stroke-linecap:square;stroke-linejoin:miter;stroke-width:0.8;\"/>\n   </g>\n   <g id=\"patch_11\">\n    <path d=\"M 145.089706 9.240815 \nL 243.560294 9.240815 \n\" style=\"fill:none;stroke:#000000;stroke-linecap:square;stroke-linejoin:miter;stroke-width:0.8;\"/>\n   </g>\n  </g>\n  <g id=\"axes_3\">\n   <g id=\"patch_12\">\n    <path d=\"M 263.254412 107.711404 \nL 361.725 107.711404 \nL 361.725 9.240815 \nL 263.254412 9.240815 \nz\n\" style=\"fill:#ffffff;\"/>\n   </g>\n   <g clip-path=\"url(#p33d6e38f4a)\">\n    <image height=\"99\" id=\"image9a4113d64c\" transform=\"scale(1 -1)translate(0 -99)\" width=\"99\" x=\"263.254412\" xlink:href=\"data:image/png;base64,\niVBORw0KGgoAAAANSUhEUgAAAGMAAABjCAYAAACPO76VAAAEEklEQVR4nO2cPSw9QRTF54mERKEgQoNCQUE0QkGQ+OokoqYVhaiIhkalU+iIQkQkIl40QiEahUZEIaLxEYIoRBQKX901d5I33u5/7R5/51edyX27O3LcmdmZ2UkZYz4MgSAn6QqQL2gGEDQDCJoBBM0AgmYAQTOAoBlA0AwgaAYQuUlXwKa+vl6V6+rqMv42lUqJ3traUrG7u7tI6xUXzAwgaAYQsTdTFRUVqjw2Nia6u7vb+1ubnJyv/6PDw0MVe3x8VOWTkxPRExMTKvb8/OyvcIwwM4CgGUDQDCBSJoaVvt7eXtHr6+sq9v7+Huqedp8R5B7pdFqVl5aWMsbihpkBBM0AIpahbU1NTajrWltbRd/c3KjY4uKi6I8Pf0vb0NAg2m4yjTGms7NTtD0ENkYPuw8ODlTs5eXF+8wwMDOAoBlA0AwgYhna2rjt+/39vejx8XEVW1tbE/0v0xb9/f2iR0ZGVKylpUW0b4g8PT2tylNTU6HrkwlmBhA0A4jYmyk0mpubRa+srKhYaWlpxusWFhZEDw0NRVIXZgYQNAMImgEE1IaEJLi6uhJ9eXmpYnaf4U5/2NMoUcHMAIJmAPHnh7Zvb2+ifW/ge3t7qtzR0RF5XZgZQNAMIGgGENBD28bGRtF5eXkqZu+1/W6lr7q6WrS9eheE09PTUNcFgZkBBM0AIvGhbXFxseiZmRkVsxeFCgoKVCzsvikX3302NjZEDw4OqthP7NFlZgBBM4CgGUAk3mdUVlaKPjs7y/q6IH3G7e2t6J2dHRXb398XPT8/n/XzfwJmBhA0AwiaAUTifUZ+fr7opqYmFVteXhZdUlKiYkH6jIGBAdHuDhAkmBlA0AwgEm+mfIyOjoouLCxUscnJSdHfNVPn5+ei7SkWY4w5OjoKX8GIYWYAQTOAoBlAQPcZPuxpFPe7jq6uLlUuLy8X/fDwoGLb29ui5+bmVMz9ju+nYWYAQTOA+LXNlA/3EDG7KSoqKlIx+03+6elJxew39zhOT2BmAEEzgKAZQPyXfYZLW1ubaHelL9vZ36qqKlW+uLiIpnJ2XSK/IwkNzQAi0F5b3wGONtfX16r8+voa5DGByc3Vf8bw8LAq20NUH/ZpDcYYs7q6KjqOs3KZGUDQDCBoBhCBhrbZfv82Ozuryu40Q9S4q4DuyTk+jo+PRff19amYvUIYB8wMIGgGEIGaqd3dXdG1tbUq5jYVmbDfeI2J/1xbl7KyMtHuwlPcMDOAoBlA0AwgAk2HtLe3i+7p6VEx+wQa99s8e3XN7TPC4ruP/S2eMcZsbm5m/G3S/YQNMwMImgHEn1hc+i0wM4CgGUDQDCBoBhA0AwiaAQTNAIJmAEEzgKAZQNAMIGgGEDQDCJoBBM0AgmYAQTOA+ARssgcK2T5WIgAAAABJRU5ErkJggg==\" y=\"-8.711404\"/>\n   </g>\n   <g id=\"matplotlib.axis_5\">\n    <g id=\"xtick_7\">\n     <g id=\"line2d_13\">\n      <g>\n       <use style=\"stroke:#000000;stroke-width:0.8;\" x=\"265.012815\" xlink:href=\"#m312f643fe3\" y=\"107.711404\"/>\n      </g>\n     </g>\n     <g id=\"text_13\">\n      <!-- 0 -->\n      <g transform=\"translate(261.831565 122.309841)scale(0.1 -0.1)\">\n       <use xlink:href=\"#DejaVuSans-30\"/>\n      </g>\n     </g>\n    </g>\n    <g id=\"xtick_8\">\n     <g id=\"line2d_14\">\n      <g>\n       <use style=\"stroke:#000000;stroke-width:0.8;\" x=\"300.180882\" xlink:href=\"#m312f643fe3\" y=\"107.711404\"/>\n      </g>\n     </g>\n     <g id=\"text_14\">\n      <!-- 10 -->\n      <g transform=\"translate(293.818382 122.309841)scale(0.1 -0.1)\">\n       <use xlink:href=\"#DejaVuSans-31\"/>\n       <use x=\"63.623047\" xlink:href=\"#DejaVuSans-30\"/>\n      </g>\n     </g>\n    </g>\n    <g id=\"xtick_9\">\n     <g id=\"line2d_15\">\n      <g>\n       <use style=\"stroke:#000000;stroke-width:0.8;\" x=\"335.34895\" xlink:href=\"#m312f643fe3\" y=\"107.711404\"/>\n      </g>\n     </g>\n     <g id=\"text_15\">\n      <!-- 20 -->\n      <g transform=\"translate(328.98645 122.309841)scale(0.1 -0.1)\">\n       <use xlink:href=\"#DejaVuSans-32\"/>\n       <use x=\"63.623047\" xlink:href=\"#DejaVuSans-30\"/>\n      </g>\n     </g>\n    </g>\n   </g>\n   <g id=\"matplotlib.axis_6\">\n    <g id=\"ytick_7\">\n     <g id=\"line2d_16\">\n      <g>\n       <use style=\"stroke:#000000;stroke-width:0.8;\" x=\"263.254412\" xlink:href=\"#m8f2902bb02\" y=\"10.999219\"/>\n      </g>\n     </g>\n     <g id=\"text_16\">\n      <!-- 0 -->\n      <g transform=\"translate(249.891912 14.798437)scale(0.1 -0.1)\">\n       <use xlink:href=\"#DejaVuSans-30\"/>\n      </g>\n     </g>\n    </g>\n    <g id=\"ytick_8\">\n     <g id=\"line2d_17\">\n      <g>\n       <use style=\"stroke:#000000;stroke-width:0.8;\" x=\"263.254412\" xlink:href=\"#m8f2902bb02\" y=\"46.167286\"/>\n      </g>\n     </g>\n     <g id=\"text_17\">\n      <!-- 10 -->\n      <g transform=\"translate(243.529412 49.966505)scale(0.1 -0.1)\">\n       <use xlink:href=\"#DejaVuSans-31\"/>\n       <use x=\"63.623047\" xlink:href=\"#DejaVuSans-30\"/>\n      </g>\n     </g>\n    </g>\n    <g id=\"ytick_9\">\n     <g id=\"line2d_18\">\n      <g>\n       <use style=\"stroke:#000000;stroke-width:0.8;\" x=\"263.254412\" xlink:href=\"#m8f2902bb02\" y=\"81.335353\"/>\n      </g>\n     </g>\n     <g id=\"text_18\">\n      <!-- 20 -->\n      <g transform=\"translate(243.529412 85.134572)scale(0.1 -0.1)\">\n       <use xlink:href=\"#DejaVuSans-32\"/>\n       <use x=\"63.623047\" xlink:href=\"#DejaVuSans-30\"/>\n      </g>\n     </g>\n    </g>\n   </g>\n   <g id=\"patch_13\">\n    <path d=\"M 263.254412 107.711404 \nL 263.254412 9.240815 \n\" style=\"fill:none;stroke:#000000;stroke-linecap:square;stroke-linejoin:miter;stroke-width:0.8;\"/>\n   </g>\n   <g id=\"patch_14\">\n    <path d=\"M 361.725 107.711404 \nL 361.725 9.240815 \n\" style=\"fill:none;stroke:#000000;stroke-linecap:square;stroke-linejoin:miter;stroke-width:0.8;\"/>\n   </g>\n   <g id=\"patch_15\">\n    <path d=\"M 263.254412 107.711404 \nL 361.725 107.711404 \n\" style=\"fill:none;stroke:#000000;stroke-linecap:square;stroke-linejoin:miter;stroke-width:0.8;\"/>\n   </g>\n   <g id=\"patch_16\">\n    <path d=\"M 263.254412 9.240815 \nL 361.725 9.240815 \n\" style=\"fill:none;stroke:#000000;stroke-linecap:square;stroke-linejoin:miter;stroke-width:0.8;\"/>\n   </g>\n  </g>\n </g>\n <defs>\n  <clipPath id=\"p970808c995\">\n   <rect height=\"98.470588\" width=\"98.470588\" x=\"26.925\" y=\"9.240815\"/>\n  </clipPath>\n  <clipPath id=\"pe01b639b92\">\n   <rect height=\"98.470588\" width=\"98.470588\" x=\"145.089706\" y=\"9.240815\"/>\n  </clipPath>\n  <clipPath id=\"p33d6e38f4a\">\n   <rect height=\"98.470588\" width=\"98.470588\" x=\"263.254412\" y=\"9.240815\"/>\n  </clipPath>\n </defs>\n</svg>\n",
      "image/png": "[encoded data removed]"
     },
     "metadata": {
      "needs_background": "light"
     }
    }
   ],
   "metadata": {}
  },
  {
   "cell_type": "markdown",
   "source": [
    "Our data is correctly loaded, we need to specify our model and train it."
   ],
   "metadata": {}
  },
  {
   "cell_type": "code",
   "execution_count": null,
   "source": [
    "class NN(nn.Module):\n",
    "    def __init__(self,input_size,hidden_size,n_class):\n",
    "        super(NN, self).__init__()"
   ],
   "outputs": [],
   "metadata": {}
  }
 ],
 "metadata": {
  "orig_nbformat": 4,
  "language_info": {
   "name": "python",
   "version": "3.9.5",
   "mimetype": "text/x-python",
   "codemirror_mode": {
    "name": "ipython",
    "version": 3
   },
   "pygments_lexer": "ipython3",
   "nbconvert_exporter": "python",
   "file_extension": ".py"
  },
  "kernelspec": {
   "name": "python3",
   "display_name": "Python 3.9.5 64-bit ('Pytorch_Intro-tTLkiOo3': pipenv)"
  },
  "interpreter": {
   "hash": "2dcc0e8861c3ac3e9ce0aee99191a4c13ff6b8d1fd5b0c82dfaa231f15b68aa4"
  }
 },
 "nbformat": 4,
 "nbformat_minor": 2
}