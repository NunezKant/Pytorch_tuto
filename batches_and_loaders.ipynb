{
 "cells": [
  {
   "cell_type": "markdown",
   "source": [
    "# Batches and dataloaders\n",
    "\n",
    "One of the handy options about using pytorch is that it can handle batches almost automatically.\n",
    "\n",
    "This is useful because instead of doing the optimization step over all the dataset we can do it over the batches.\n",
    "\n",
    "Also we will look in a way to prevent overfitting, using splits of the data, train, validation and test."
   ],
   "metadata": {}
  },
  {
   "cell_type": "code",
   "execution_count": 128,
   "source": [
    "import torch \n",
    "import torchvision\n",
    "import torchvision.transforms as transforms\n",
    "from torch.utils.data import Dataset, DataLoader\n",
    "import numpy as np\n",
    "from sklearn.datasets import load_wine\n",
    "import torch.nn as nn "
   ],
   "outputs": [],
   "metadata": {}
  },
  {
   "cell_type": "code",
   "execution_count": 129,
   "source": [
    "X, y = load_wine(return_X_y=True)\n",
    "print(f\"X shape: {X.shape}\") #samples, features\n",
    "print(f\"y shape: {y.shape}\") "
   ],
   "outputs": [
    {
     "output_type": "stream",
     "name": "stdout",
     "text": [
      "X shape: (178, 13)\n",
      "y shape: (178,)\n"
     ]
    }
   ],
   "metadata": {}
  },
  {
   "cell_type": "markdown",
   "source": [
    "We can use pytorch to load our data in a smart way:\n",
    "\n",
    "1. We will create a Dataset object inheriting the Dataset module.\n",
    "2. We will define 3 main functions inside of it:\n",
    "    1. **init:** constructor of the class\n",
    "    2. **getitem:** we will have the ability to select entries of the tensor\n",
    "    3. **len:** it will return the size of the object"
   ],
   "metadata": {}
  },
  {
   "cell_type": "code",
   "execution_count": 130,
   "source": [
    "class WineData(Dataset):\n",
    "    def __init__(self):\n",
    "        x, y = load_wine(return_X_y=True)\n",
    "        self.x = torch.from_numpy(x.astype(np.float32)) #remember that float32 is the standard dtype in torch\n",
    "        self.y = torch.from_numpy(y[:,np.newaxis].astype(np.float32)) #pytorch doesnt like empty axis (x,) -> (x,1)\n",
    "        self.n_samples = x.shape[0]\n",
    "    def __getitem__(self,index):\n",
    "        return self.x[index], self.y[index]\n",
    "    def __len__(self):\n",
    "        return self.n_samples"
   ],
   "outputs": [],
   "metadata": {}
  },
  {
   "cell_type": "code",
   "execution_count": 131,
   "source": [
    "dataset = WineData()\n",
    "dataset[0]"
   ],
   "outputs": [
    {
     "output_type": "execute_result",
     "data": {
      "text/plain": [
       "(tensor([1.4230e+01, 1.7100e+00, 2.4300e+00, 1.5600e+01, 1.2700e+02, 2.8000e+00,\n",
       "         3.0600e+00, 2.8000e-01, 2.2900e+00, 5.6400e+00, 1.0400e+00, 3.9200e+00,\n",
       "         1.0650e+03]),\n",
       " tensor([0.]))"
      ]
     },
     "metadata": {},
     "execution_count": 131
    }
   ],
   "metadata": {}
  },
  {
   "cell_type": "markdown",
   "source": [
    "## Why we did all of this? \n",
    "\n",
    "Well, now that we have a dataset object we can use the dataloader from torch to work directly with batches, and shuffling the data on the go."
   ],
   "metadata": {}
  },
  {
   "cell_type": "code",
   "execution_count": 132,
   "source": [
    "dataloader = DataLoader(dataset=dataset,batch_size=6,shuffle=True)"
   ],
   "outputs": [],
   "metadata": {}
  },
  {
   "cell_type": "code",
   "execution_count": 133,
   "source": [
    "num_epochs = 3"
   ],
   "outputs": [],
   "metadata": {}
  },
  {
   "cell_type": "code",
   "execution_count": 134,
   "source": [
    "for epoch in range(num_epochs):\n",
    "    for i, (inputs,labels) in enumerate(dataloader):\n",
    "        if (i+1) % 10 == 0:\n",
    "            print(f'epoch: {epoch+1}/{num_epochs}')\n",
    "            print(f'step: {i+1}')"
   ],
   "outputs": [
    {
     "output_type": "stream",
     "name": "stdout",
     "text": [
      "epoch: 1/3\n",
      "step: 10\n",
      "epoch: 1/3\n",
      "step: 20\n",
      "epoch: 1/3\n",
      "step: 30\n",
      "epoch: 2/3\n",
      "step: 10\n",
      "epoch: 2/3\n",
      "step: 20\n",
      "epoch: 2/3\n",
      "step: 30\n",
      "epoch: 3/3\n",
      "step: 10\n",
      "epoch: 3/3\n",
      "step: 20\n",
      "epoch: 3/3\n",
      "step: 30\n"
     ]
    }
   ],
   "metadata": {}
  },
  {
   "cell_type": "markdown",
   "source": [
    "# Full Feedforward net example \n",
    "\n",
    "### First we will set up our device:"
   ],
   "metadata": {}
  },
  {
   "cell_type": "code",
   "execution_count": 135,
   "source": [
    "device = torch.device('cuda' if torch.cuda.is_available() else 'cpu')\n",
    "print(device)"
   ],
   "outputs": [
    {
     "output_type": "stream",
     "name": "stdout",
     "text": [
      "cuda\n"
     ]
    }
   ],
   "metadata": {}
  },
  {
   "cell_type": "markdown",
   "source": [
    "We will use the MNIST dataset since it is easy to load it."
   ],
   "metadata": {}
  },
  {
   "cell_type": "code",
   "execution_count": 136,
   "source": [
    "train_data = torchvision.datasets.MNIST(root='./dataset', \n",
    "train = True, transform = transforms.ToTensor(), download = True)"
   ],
   "outputs": [],
   "metadata": {}
  },
  {
   "cell_type": "code",
   "execution_count": 137,
   "source": [
    "test_data = torchvision.datasets.MNIST(root='./dataset', \n",
    "train = False, transform = transforms.ToTensor())"
   ],
   "outputs": [],
   "metadata": {}
  },
  {
   "cell_type": "markdown",
   "source": [
    "We will set up all our hyperparameters and use a DataLoader:"
   ],
   "metadata": {}
  },
  {
   "cell_type": "code",
   "execution_count": 138,
   "source": [
    "input_size = 784 # we know that images are 28x28\n",
    "hidden_size = 20\n",
    "n_class = 10 # 10 digits\n",
    "n_epochs = 4\n",
    "batch_size = 100\n",
    "lr = 0.001"
   ],
   "outputs": [],
   "metadata": {}
  },
  {
   "cell_type": "code",
   "execution_count": 139,
   "source": [
    "train_loader = torch.utils.data.DataLoader(dataset=train_data,\n",
    "batch_size = batch_size, shuffle= True)\n",
    "\n",
    "test_loader = torch.utils.data.DataLoader(dataset=test_data,\n",
    "batch_size = batch_size, shuffle= False)"
   ],
   "outputs": [],
   "metadata": {}
  },
  {
   "cell_type": "markdown",
   "source": [
    "Lets verify our data with a visualization, DataLoader object is a iterator so:"
   ],
   "metadata": {}
  },
  {
   "cell_type": "code",
   "execution_count": 140,
   "source": [
    "import matplotlib.pyplot as plt\n",
    "data = iter(train_loader)\n",
    "samples, labels = data.next() # we unpack next values\n",
    "for i in range(3):\n",
    "    plt.subplot(1,3,i+1)\n",
    "    plt.imshow(samples[i,0],cmap='gray')"
   ],
   "outputs": [
    {
     "output_type": "display_data",
     "data": {
      "image/png": "[encoded data removed]",
      "image/svg+xml": "<?xml version=\"1.0\" encoding=\"utf-8\" standalone=\"no\"?>\n<!DOCTYPE svg PUBLIC \"-//W3C//DTD SVG 1.1//EN\"\n  \"http://www.w3.org/Graphics/SVG/1.1/DTD/svg11.dtd\">\n<svg height=\"131.589529pt\" version=\"1.1\" viewBox=\"0 0 368.925 131.589529\" width=\"368.925pt\" xmlns=\"http://www.w3.org/2000/svg\" xmlns:xlink=\"http://www.w3.org/1999/xlink\">\n <metadata>\n  <rdf:RDF xmlns:cc=\"http://creativecommons.org/ns#\" xmlns:dc=\"http://purl.org/dc/elements/1.1/\" xmlns:rdf=\"http://www.w3.org/1999/02/22-rdf-syntax-ns#\">\n   <cc:Work>\n    <dc:type rdf:resource=\"http://purl.org/dc/dcmitype/StillImage\"/>\n    <dc:date>2021-09-09T23:41:17.970874</dc:date>\n    <dc:format>image/svg+xml</dc:format>\n    <dc:creator>\n     <cc:Agent>\n      <dc:title>Matplotlib v3.4.3, https://matplotlib.org/</dc:title>\n     </cc:Agent>\n    </dc:creator>\n   </cc:Work>\n  </rdf:RDF>\n </metadata>\n <defs>\n  <style type=\"text/css\">*{stroke-linecap:butt;stroke-linejoin:round;}</style>\n </defs>\n <g id=\"figure_1\">\n  <g id=\"patch_1\">\n   <path d=\"M -0 131.589529 \nL 368.925 131.589529 \nL 368.925 0 \nL -0 0 \nz\n\" style=\"fill:none;\"/>\n  </g>\n  <g id=\"axes_1\">\n   <g id=\"patch_2\">\n    <path d=\"M 26.925 107.711404 \nL 125.395588 107.711404 \nL 125.395588 9.240815 \nL 26.925 9.240815 \nz\n\" style=\"fill:#ffffff;\"/>\n   </g>\n   <g clip-path=\"url(#p5a0f0b1d9f)\">\n    <image height=\"99\" id=\"image5accc2373c\" transform=\"scale(1 -1)translate(0 -99)\" width=\"99\" x=\"26.925\" xlink:href=\"data:image/png;base64,\niVBORw0KGgoAAAANSUhEUgAAAGMAAABjCAYAAACPO76VAAAEfklEQVR4nO2cSyhuURTH96c7UAYehQkiQ8ZeUwbEyCOvEgNKJGEgGREDeWVk4BVKiZEYIK8MFEaYyYARCZG8c2fr7rXv/c699/vO2f63u36j/275ztr1t/Y+Z5+9j08p9akECEK+ugPCD8QMIMQMIMQMIMQMIMQMIMQMIMQMIMQMIMQMIMQMIMQMIMQMIL7ZTlhXV8fa3d3dpKOjo/3+7vHxkbW7urpIj46OstjDw0MwXfwypDKAEDOAEDOA8CkLb/pCQ0NJb25uslh6enrQ17+8vGTt0tJS1t7b2yP9+voadD6vkMoAQswAwsowlZaWRlofMkympqZYe2VlhXRYWBiLtbW1kU5JSXHMPzg4SHpkZITFzs/PHX9rE6kMIMQMIMQMIKzMGfqY3dzczGIbGxukCwoKWOz5+dnvNfU5pK+vj8XKy8tZOyIigvTFxQWLJScnk35/f/ebzwZSGUCIGUBYWbVNSEjwG9Ofnp2GJRN9FbehoYHFhoaG/Lbz8/NZbGdnh3RWVtYf5/cCqQwgxAwgxAwgrL/p8/l8nuc4PT1l7Z6eHtL6ba5SfJ6oqqpisenpafc754BUBhBiBhDWh6nPT/un1vSV4uzsbBa7v78n3d/fz2KHh4ekT05OPOrdD6QygBAzgBAzgLAyZ+ibEAoLC22k9Iu5ISE3N5f08vIyi7W2tpKur69nsZeXF9f7JpUBhJgBhJVhan9/n7T5BJ6RkUE6KiqKxW5ubrztmFJqa2uL9MDAAIt1dnaS1m+Blfr5JZkbSGUAIWYAIWYAYWVDQmRkJOnt7W0WS01NJd3S0sJiw8PDnvbLJDY2lrWPjo5Im3NdZmYmaXOVOFCkMoAQM4AQM4Cw8pxxe3tL+vr62u/f6RvKvgLznMf6+jrpsrIyFjPfGLqBVAYQYgYQVm5tdSorK1l7ZmaGtD6cKaVUXFwc6aenJ2879gtycnJIr66usph+5uTg4MCVfFIZQIgZQIgZQFjfHbKwsMDa7e3tpM2zefqxZH2p2xbmEWavkcoAQswAwvowZb7I7+3tJT07O8ti+hOwuaJrHiF2g5AQ/r8ZHh7ueg7H/FazCY6IGUCIGUBYnzNM5ubmSOs7RZRSqrGxkXReXh6LjY+Pkza/0hYoNTU1rF1cXEzanOve3t5cyakjlQGEmAGE9VXbv0H/8KP5VZ3FxUXSJSUljteJiYkhfXV1xWL6sei1tTUWi4+PJ93U1MRiY2NjjjkDQSoDCDEDCDEDCOg5Y2JignR1dTWL6bezu7u7jtdJSkoiPT8/z2L6RgN9jlCKL8/U1tb+vsNBIpUBhJgBBPQwlZiYSPrs7Czg6+j7ZM2jzx8fH6TN77RPTk4GnDMQpDKAEDOAEDOAgJ4z9LFeX6VV6udb3T/l+PiYtfWj0G6dswgUqQwgxAwgoIcpHXPVtqioiLS536qiooK17+7uSHd0dLDY0tKSSz0MHqkMIMQMIMQMIP6ZOeN/QCoDCDEDCDEDCDEDCDEDCDEDCDEDCDEDCDEDCDEDCDEDCDEDCDEDiO8aOBUFMVuOpgAAAABJRU5ErkJggg==\" y=\"-8.711404\"/>\n   </g>\n   <g id=\"matplotlib.axis_1\">\n    <g id=\"xtick_1\">\n     <g id=\"line2d_1\">\n      <defs>\n       <path d=\"M 0 0 \nL 0 3.5 \n\" id=\"md9393eccca\" style=\"stroke:#000000;stroke-width:0.8;\"/>\n      </defs>\n      <g>\n       <use style=\"stroke:#000000;stroke-width:0.8;\" x=\"28.683403\" xlink:href=\"#md9393eccca\" y=\"107.711404\"/>\n      </g>\n     </g>\n     <g id=\"text_1\">\n      <!-- 0 -->\n      <g transform=\"translate(25.502153 122.309841)scale(0.1 -0.1)\">\n       <defs>\n        <path d=\"M 2034 4250 \nQ 1547 4250 1301 3770 \nQ 1056 3291 1056 2328 \nQ 1056 1369 1301 889 \nQ 1547 409 2034 409 \nQ 2525 409 2770 889 \nQ 3016 1369 3016 2328 \nQ 3016 3291 2770 3770 \nQ 2525 4250 2034 4250 \nz\nM 2034 4750 \nQ 2819 4750 3233 4129 \nQ 3647 3509 3647 2328 \nQ 3647 1150 3233 529 \nQ 2819 -91 2034 -91 \nQ 1250 -91 836 529 \nQ 422 1150 422 2328 \nQ 422 3509 836 4129 \nQ 1250 4750 2034 4750 \nz\n\" id=\"DejaVuSans-30\" transform=\"scale(0.015625)\"/>\n       </defs>\n       <use xlink:href=\"#DejaVuSans-30\"/>\n      </g>\n     </g>\n    </g>\n    <g id=\"xtick_2\">\n     <g id=\"line2d_2\">\n      <g>\n       <use style=\"stroke:#000000;stroke-width:0.8;\" x=\"63.851471\" xlink:href=\"#md9393eccca\" y=\"107.711404\"/>\n      </g>\n     </g>\n     <g id=\"text_2\">\n      <!-- 10 -->\n      <g transform=\"translate(57.488971 122.309841)scale(0.1 -0.1)\">\n       <defs>\n        <path d=\"M 794 531 \nL 1825 531 \nL 1825 4091 \nL 703 3866 \nL 703 4441 \nL 1819 4666 \nL 2450 4666 \nL 2450 531 \nL 3481 531 \nL 3481 0 \nL 794 0 \nL 794 531 \nz\n\" id=\"DejaVuSans-31\" transform=\"scale(0.015625)\"/>\n       </defs>\n       <use xlink:href=\"#DejaVuSans-31\"/>\n       <use x=\"63.623047\" xlink:href=\"#DejaVuSans-30\"/>\n      </g>\n     </g>\n    </g>\n    <g id=\"xtick_3\">\n     <g id=\"line2d_3\">\n      <g>\n       <use style=\"stroke:#000000;stroke-width:0.8;\" x=\"99.019538\" xlink:href=\"#md9393eccca\" y=\"107.711404\"/>\n      </g>\n     </g>\n     <g id=\"text_3\">\n      <!-- 20 -->\n      <g transform=\"translate(92.657038 122.309841)scale(0.1 -0.1)\">\n       <defs>\n        <path d=\"M 1228 531 \nL 3431 531 \nL 3431 0 \nL 469 0 \nL 469 531 \nQ 828 903 1448 1529 \nQ 2069 2156 2228 2338 \nQ 2531 2678 2651 2914 \nQ 2772 3150 2772 3378 \nQ 2772 3750 2511 3984 \nQ 2250 4219 1831 4219 \nQ 1534 4219 1204 4116 \nQ 875 4013 500 3803 \nL 500 4441 \nQ 881 4594 1212 4672 \nQ 1544 4750 1819 4750 \nQ 2544 4750 2975 4387 \nQ 3406 4025 3406 3419 \nQ 3406 3131 3298 2873 \nQ 3191 2616 2906 2266 \nQ 2828 2175 2409 1742 \nQ 1991 1309 1228 531 \nz\n\" id=\"DejaVuSans-32\" transform=\"scale(0.015625)\"/>\n       </defs>\n       <use xlink:href=\"#DejaVuSans-32\"/>\n       <use x=\"63.623047\" xlink:href=\"#DejaVuSans-30\"/>\n      </g>\n     </g>\n    </g>\n   </g>\n   <g id=\"matplotlib.axis_2\">\n    <g id=\"ytick_1\">\n     <g id=\"line2d_4\">\n      <defs>\n       <path d=\"M 0 0 \nL -3.5 0 \n\" id=\"mf5b224c39c\" style=\"stroke:#000000;stroke-width:0.8;\"/>\n      </defs>\n      <g>\n       <use style=\"stroke:#000000;stroke-width:0.8;\" x=\"26.925\" xlink:href=\"#mf5b224c39c\" y=\"10.999219\"/>\n      </g>\n     </g>\n     <g id=\"text_4\">\n      <!-- 0 -->\n      <g transform=\"translate(13.5625 14.798437)scale(0.1 -0.1)\">\n       <use xlink:href=\"#DejaVuSans-30\"/>\n      </g>\n     </g>\n    </g>\n    <g id=\"ytick_2\">\n     <g id=\"line2d_5\">\n      <g>\n       <use style=\"stroke:#000000;stroke-width:0.8;\" x=\"26.925\" xlink:href=\"#mf5b224c39c\" y=\"46.167286\"/>\n      </g>\n     </g>\n     <g id=\"text_5\">\n      <!-- 10 -->\n      <g transform=\"translate(7.2 49.966505)scale(0.1 -0.1)\">\n       <use xlink:href=\"#DejaVuSans-31\"/>\n       <use x=\"63.623047\" xlink:href=\"#DejaVuSans-30\"/>\n      </g>\n     </g>\n    </g>\n    <g id=\"ytick_3\">\n     <g id=\"line2d_6\">\n      <g>\n       <use style=\"stroke:#000000;stroke-width:0.8;\" x=\"26.925\" xlink:href=\"#mf5b224c39c\" y=\"81.335353\"/>\n      </g>\n     </g>\n     <g id=\"text_6\">\n      <!-- 20 -->\n      <g transform=\"translate(7.2 85.134572)scale(0.1 -0.1)\">\n       <use xlink:href=\"#DejaVuSans-32\"/>\n       <use x=\"63.623047\" xlink:href=\"#DejaVuSans-30\"/>\n      </g>\n     </g>\n    </g>\n   </g>\n   <g id=\"patch_3\">\n    <path d=\"M 26.925 107.711404 \nL 26.925 9.240815 \n\" style=\"fill:none;stroke:#000000;stroke-linecap:square;stroke-linejoin:miter;stroke-width:0.8;\"/>\n   </g>\n   <g id=\"patch_4\">\n    <path d=\"M 125.395588 107.711404 \nL 125.395588 9.240815 \n\" style=\"fill:none;stroke:#000000;stroke-linecap:square;stroke-linejoin:miter;stroke-width:0.8;\"/>\n   </g>\n   <g id=\"patch_5\">\n    <path d=\"M 26.925 107.711404 \nL 125.395588 107.711404 \n\" style=\"fill:none;stroke:#000000;stroke-linecap:square;stroke-linejoin:miter;stroke-width:0.8;\"/>\n   </g>\n   <g id=\"patch_6\">\n    <path d=\"M 26.925 9.240815 \nL 125.395588 9.240815 \n\" style=\"fill:none;stroke:#000000;stroke-linecap:square;stroke-linejoin:miter;stroke-width:0.8;\"/>\n   </g>\n  </g>\n  <g id=\"axes_2\">\n   <g id=\"patch_7\">\n    <path d=\"M 145.089706 107.711404 \nL 243.560294 107.711404 \nL 243.560294 9.240815 \nL 145.089706 9.240815 \nz\n\" style=\"fill:#ffffff;\"/>\n   </g>\n   <g clip-path=\"url(#p11f3947bd3)\">\n    <image height=\"99\" id=\"image078feaff07\" transform=\"scale(1 -1)translate(0 -99)\" width=\"99\" x=\"145.089706\" xlink:href=\"data:image/png;base64,\niVBORw0KGgoAAAANSUhEUgAAAGMAAABjCAYAAACPO76VAAAECUlEQVR4nO2cvS81QRTG5/poKCgoNNxEpfAvkGiQSBREIW5CoxEfUSkkQqgkJCIRGo1GhFuQoBSFhgKJSFQaBSpBQfB2x5zJu2vvxs4+ed/nVz0nx87c5HFmZmdnN2OM+TIEgqK0fwD5hmYAQTOAoBlA0AwgaAYQNAMImgEEzQCCZgBBM4CgGUDQDCBKfHfY1NSk4qGhIdFdXV2R28lkMqK/vqJvPB8fH6t4YWFB9O7ubuR2koCVAQTNAIJmAJExHp70ZbNZ0aenpypXWVkZq824c4Z9nTHGPD8/iz45OVG5tra2WL8tLqwMIGgGEF6WtiUl392EDUuvr68qnpqaEn19fR25v9LSUhWPjY2Jbm5uVrny8nLRdXV1kftIAlYGEDQDCJoBhPftEHdpaXN0dKTixcXFWH1MTEyo2J4nior0/9/n52dgzjesDCBoBhDeh6lC7paj0t7eruLZ2dnAPu1hyc25w6RvWBlA0AwgaAYQ3ueMMNyngIODg6LX1tZUzt66mJubi9zH4eGhimdmZkRfXl5GbicJWBlA0AwgvDxcsndG3aFofX1ddFVVlcq9vLyItndejTFmfHxcdENDQ2j/KysrooeHh3/+wSnBygCCZgBBM4DwMmeEMTIyIrqQXVp7h9Xd4nh4eFBxa2ur6PPz80J/ojdYGUDQDCBSvwNfWloS3djYqHIDAwOB19lDk7sTvLW1peIkdoqTgJUBBM0AgmYAkfrS1sZ9Yhf2vkQhZ23tpe7T05PK2XPP6uqqyuXzedG3t7ehffwGrAwgaAYQNAOI1OeMiooK0RsbGyrnziE28/Pzovv6+lSupqYm8Dr3EF3YfHN1dSW6paVF5R4fHwOviwsrAwiaAUTqw1TUXdvt7W0V9/T0iHaHs729vcB2ws7ahrG8vKzi0dHRSNcVAisDCJoBBM0AIvUtdHtp6S4zb25uRNtzhMv+/r6Ki4uLVdzd3S16c3MzsH+7P2N+PnXy27AygKAZQHhf2rp3wHd3d6Krq6tVrr+/X7R7dx6Xj48PFXOYIn+FZgBBM4BIfWnrzhM27mG0fx1WBhA0AwiaAQTNAIJmAEEzgPC+tA37kLB9AMCY8GWvTS6XU3F9fb2KJycnI7XjvjfoG1YGEDQDiNR3bd/f3wP/9u3tTbR71tU+WFBbW6ty7gcjw/q/v78X3dHRoXJnZ2eB7SQBKwMImgEEzQAi9TnD/t64uwS13/ErKysLbKeQd/bc9zN6e3tFHxwcRG4nCVgZQNAMIFI/axtGZ2enaHf5ar+yPD09rXLu9853dnZEX1xcqFzaH4m0YWUAQTOAoBlAQM8Z/xusDCBoBhA0AwiaAQTNAIJmAEEzgKAZQNAMIGgGEDQDCJoBBM0A4g9gAQMkYwk9HQAAAABJRU5ErkJggg==\" y=\"-8.711404\"/>\n   </g>\n   <g id=\"matplotlib.axis_3\">\n    <g id=\"xtick_4\">\n     <g id=\"line2d_7\">\n      <g>\n       <use style=\"stroke:#000000;stroke-width:0.8;\" x=\"146.848109\" xlink:href=\"#md9393eccca\" y=\"107.711404\"/>\n      </g>\n     </g>\n     <g id=\"text_7\">\n      <!-- 0 -->\n      <g transform=\"translate(143.666859 122.309841)scale(0.1 -0.1)\">\n       <use xlink:href=\"#DejaVuSans-30\"/>\n      </g>\n     </g>\n    </g>\n    <g id=\"xtick_5\">\n     <g id=\"line2d_8\">\n      <g>\n       <use style=\"stroke:#000000;stroke-width:0.8;\" x=\"182.016176\" xlink:href=\"#md9393eccca\" y=\"107.711404\"/>\n      </g>\n     </g>\n     <g id=\"text_8\">\n      <!-- 10 -->\n      <g transform=\"translate(175.653676 122.309841)scale(0.1 -0.1)\">\n       <use xlink:href=\"#DejaVuSans-31\"/>\n       <use x=\"63.623047\" xlink:href=\"#DejaVuSans-30\"/>\n      </g>\n     </g>\n    </g>\n    <g id=\"xtick_6\">\n     <g id=\"line2d_9\">\n      <g>\n       <use style=\"stroke:#000000;stroke-width:0.8;\" x=\"217.184244\" xlink:href=\"#md9393eccca\" y=\"107.711404\"/>\n      </g>\n     </g>\n     <g id=\"text_9\">\n      <!-- 20 -->\n      <g transform=\"translate(210.821744 122.309841)scale(0.1 -0.1)\">\n       <use xlink:href=\"#DejaVuSans-32\"/>\n       <use x=\"63.623047\" xlink:href=\"#DejaVuSans-30\"/>\n      </g>\n     </g>\n    </g>\n   </g>\n   <g id=\"matplotlib.axis_4\">\n    <g id=\"ytick_4\">\n     <g id=\"line2d_10\">\n      <g>\n       <use style=\"stroke:#000000;stroke-width:0.8;\" x=\"145.089706\" xlink:href=\"#mf5b224c39c\" y=\"10.999219\"/>\n      </g>\n     </g>\n     <g id=\"text_10\">\n      <!-- 0 -->\n      <g transform=\"translate(131.727206 14.798437)scale(0.1 -0.1)\">\n       <use xlink:href=\"#DejaVuSans-30\"/>\n      </g>\n     </g>\n    </g>\n    <g id=\"ytick_5\">\n     <g id=\"line2d_11\">\n      <g>\n       <use style=\"stroke:#000000;stroke-width:0.8;\" x=\"145.089706\" xlink:href=\"#mf5b224c39c\" y=\"46.167286\"/>\n      </g>\n     </g>\n     <g id=\"text_11\">\n      <!-- 10 -->\n      <g transform=\"translate(125.364706 49.966505)scale(0.1 -0.1)\">\n       <use xlink:href=\"#DejaVuSans-31\"/>\n       <use x=\"63.623047\" xlink:href=\"#DejaVuSans-30\"/>\n      </g>\n     </g>\n    </g>\n    <g id=\"ytick_6\">\n     <g id=\"line2d_12\">\n      <g>\n       <use style=\"stroke:#000000;stroke-width:0.8;\" x=\"145.089706\" xlink:href=\"#mf5b224c39c\" y=\"81.335353\"/>\n      </g>\n     </g>\n     <g id=\"text_12\">\n      <!-- 20 -->\n      <g transform=\"translate(125.364706 85.134572)scale(0.1 -0.1)\">\n       <use xlink:href=\"#DejaVuSans-32\"/>\n       <use x=\"63.623047\" xlink:href=\"#DejaVuSans-30\"/>\n      </g>\n     </g>\n    </g>\n   </g>\n   <g id=\"patch_8\">\n    <path d=\"M 145.089706 107.711404 \nL 145.089706 9.240815 \n\" style=\"fill:none;stroke:#000000;stroke-linecap:square;stroke-linejoin:miter;stroke-width:0.8;\"/>\n   </g>\n   <g id=\"patch_9\">\n    <path d=\"M 243.560294 107.711404 \nL 243.560294 9.240815 \n\" style=\"fill:none;stroke:#000000;stroke-linecap:square;stroke-linejoin:miter;stroke-width:0.8;\"/>\n   </g>\n   <g id=\"patch_10\">\n    <path d=\"M 145.089706 107.711404 \nL 243.560294 107.711404 \n\" style=\"fill:none;stroke:#000000;stroke-linecap:square;stroke-linejoin:miter;stroke-width:0.8;\"/>\n   </g>\n   <g id=\"patch_11\">\n    <path d=\"M 145.089706 9.240815 \nL 243.560294 9.240815 \n\" style=\"fill:none;stroke:#000000;stroke-linecap:square;stroke-linejoin:miter;stroke-width:0.8;\"/>\n   </g>\n  </g>\n  <g id=\"axes_3\">\n   <g id=\"patch_12\">\n    <path d=\"M 263.254412 107.711404 \nL 361.725 107.711404 \nL 361.725 9.240815 \nL 263.254412 9.240815 \nz\n\" style=\"fill:#ffffff;\"/>\n   </g>\n   <g clip-path=\"url(#p68e191c87e)\">\n    <image height=\"99\" id=\"image0887936b1f\" transform=\"scale(1 -1)translate(0 -99)\" width=\"99\" x=\"263.254412\" xlink:href=\"data:image/png;base64,\niVBORw0KGgoAAAANSUhEUgAAAGMAAABjCAYAAACPO76VAAAEVklEQVR4nO2cSyh1XxjG10G5J0rkUkoxMTBxLUYoEVJKJmRsIBIjpDAwMiEjJSaKwsylZIAMRC4ZUCQiAxlQyuUbfct6d+3z7XO+ffZ5vv//+Y2et/esSz3etba9194+pdS3IhBEhHsC5AeaAQTNAIJmAEEzgKAZQNAMIGgGEDQDCJoBBM0AgmYAQTOAoBlA0AwgaAYQNAOIqHBPwA1iYmJE3NvbK+KGhgat39/fRa6ysjJ0EwsQVgYQNAOI/8Qy1djYKOKRkRHb356fn4s4KSlJ65eXF3cnFiCsDCBoBhA0AwifCvMhtoiIn7+H4uJikSsrK9O6ublZ5DIyMrROTU0Vufj4eMfj39/faz02NiZyMzMzWn99fTnuM1hYGUDQDCA8X6YKCgpEPDExoXVNTY2XU/kj6+vrWvf19Ync6emp6+OxMoCgGUDQDCA82TPy8/O13tzcFDnzEjUQzH6qqqqCm1gAmPuHUkrV1dVp7dZlLysDCJoBREiWqcjISBHPzc1p3dra6rif2dlZrYeHh0Xu4eFB6/n5eZFraWmx7fPu7k7ECwsLWvf09IhcVJT9Te2uri6tp6enbX8XCKwMIGgGEDQDiJDsGfX19SJeWVlx1G5tbU3ETU1NjtqVlJSIeHd31/a3j4+PIi4tLdX67OxM5OLi4mz7ub6+1jo3N9fJNP8IKwMImgEE1IEE62GBUJCWlibi0dFRrf1dylpZWlpybU6/YWUAQTOAoBlAhGTP+Pj4EPH398/Vs8/ns20XHR0d1HiHh4ciPjo6EnFhYaFt27a2tqDGvLm5CaqdP1gZQNAMIGgGEJ486dvb29PaelDNxLrXVFdXa72zs+N4vNXVVRGbT+WC5enpScRZWVlaW+cdLKwMIGgGEJ7cDllcXNTa3zJlvR1RW1urdSDLVGdnp4ivrq60TkhIcNyPyfLysojdWppMWBlA0AwgaAYQnlzamuu09Umb9bVhk8/PT62tB48nJycdjz80NKR1f3+/yJm3YF5fX23HGB8fF7m3tzfH4zuFlQEEzQDC8/czzCVDKaUGBwcdtbu9vRVxR0eH1tvb247HLy8vF3F2drbWx8fHIndxceG4XzdgZQBBM4CgGUB4vmdkZmaK+ODgQOv09HTH/ZiXltYneebtj38JVgYQNAOIsH8hwfwwl/VgmPn1BH9Yz9ZWVFT8/cTCACsDCJoBBM0AIux7hsn+/r6Ii4qKHLV7fn4WsfnOhVJKXV5e/t3EPIKVAQTNAALq/QzrB762tra0zsvLs22XnJws4pSUFHcn5hGsDCBoBhA0AwioPcP8eKNSSnV3d2s9NTUlcjk5Obb9JCYmujktz2BlAEEzgID6D9wfAwMDIjZfGbZi/cpOe3t7SObkNqwMIGgGEDQDCKhLW39sbGyI2Dz8FhsbK3InJyeezMltWBlA0Awg/plL2/8DrAwgaAYQNAMImgEEzQCCZgBBM4CgGUDQDCBoBhC/AEcS7XvQqIYPAAAAAElFTkSuQmCC\" y=\"-8.711404\"/>\n   </g>\n   <g id=\"matplotlib.axis_5\">\n    <g id=\"xtick_7\">\n     <g id=\"line2d_13\">\n      <g>\n       <use style=\"stroke:#000000;stroke-width:0.8;\" x=\"265.012815\" xlink:href=\"#md9393eccca\" y=\"107.711404\"/>\n      </g>\n     </g>\n     <g id=\"text_13\">\n      <!-- 0 -->\n      <g transform=\"translate(261.831565 122.309841)scale(0.1 -0.1)\">\n       <use xlink:href=\"#DejaVuSans-30\"/>\n      </g>\n     </g>\n    </g>\n    <g id=\"xtick_8\">\n     <g id=\"line2d_14\">\n      <g>\n       <use style=\"stroke:#000000;stroke-width:0.8;\" x=\"300.180882\" xlink:href=\"#md9393eccca\" y=\"107.711404\"/>\n      </g>\n     </g>\n     <g id=\"text_14\">\n      <!-- 10 -->\n      <g transform=\"translate(293.818382 122.309841)scale(0.1 -0.1)\">\n       <use xlink:href=\"#DejaVuSans-31\"/>\n       <use x=\"63.623047\" xlink:href=\"#DejaVuSans-30\"/>\n      </g>\n     </g>\n    </g>\n    <g id=\"xtick_9\">\n     <g id=\"line2d_15\">\n      <g>\n       <use style=\"stroke:#000000;stroke-width:0.8;\" x=\"335.34895\" xlink:href=\"#md9393eccca\" y=\"107.711404\"/>\n      </g>\n     </g>\n     <g id=\"text_15\">\n      <!-- 20 -->\n      <g transform=\"translate(328.98645 122.309841)scale(0.1 -0.1)\">\n       <use xlink:href=\"#DejaVuSans-32\"/>\n       <use x=\"63.623047\" xlink:href=\"#DejaVuSans-30\"/>\n      </g>\n     </g>\n    </g>\n   </g>\n   <g id=\"matplotlib.axis_6\">\n    <g id=\"ytick_7\">\n     <g id=\"line2d_16\">\n      <g>\n       <use style=\"stroke:#000000;stroke-width:0.8;\" x=\"263.254412\" xlink:href=\"#mf5b224c39c\" y=\"10.999219\"/>\n      </g>\n     </g>\n     <g id=\"text_16\">\n      <!-- 0 -->\n      <g transform=\"translate(249.891912 14.798437)scale(0.1 -0.1)\">\n       <use xlink:href=\"#DejaVuSans-30\"/>\n      </g>\n     </g>\n    </g>\n    <g id=\"ytick_8\">\n     <g id=\"line2d_17\">\n      <g>\n       <use style=\"stroke:#000000;stroke-width:0.8;\" x=\"263.254412\" xlink:href=\"#mf5b224c39c\" y=\"46.167286\"/>\n      </g>\n     </g>\n     <g id=\"text_17\">\n      <!-- 10 -->\n      <g transform=\"translate(243.529412 49.966505)scale(0.1 -0.1)\">\n       <use xlink:href=\"#DejaVuSans-31\"/>\n       <use x=\"63.623047\" xlink:href=\"#DejaVuSans-30\"/>\n      </g>\n     </g>\n    </g>\n    <g id=\"ytick_9\">\n     <g id=\"line2d_18\">\n      <g>\n       <use style=\"stroke:#000000;stroke-width:0.8;\" x=\"263.254412\" xlink:href=\"#mf5b224c39c\" y=\"81.335353\"/>\n      </g>\n     </g>\n     <g id=\"text_18\">\n      <!-- 20 -->\n      <g transform=\"translate(243.529412 85.134572)scale(0.1 -0.1)\">\n       <use xlink:href=\"#DejaVuSans-32\"/>\n       <use x=\"63.623047\" xlink:href=\"#DejaVuSans-30\"/>\n      </g>\n     </g>\n    </g>\n   </g>\n   <g id=\"patch_13\">\n    <path d=\"M 263.254412 107.711404 \nL 263.254412 9.240815 \n\" style=\"fill:none;stroke:#000000;stroke-linecap:square;stroke-linejoin:miter;stroke-width:0.8;\"/>\n   </g>\n   <g id=\"patch_14\">\n    <path d=\"M 361.725 107.711404 \nL 361.725 9.240815 \n\" style=\"fill:none;stroke:#000000;stroke-linecap:square;stroke-linejoin:miter;stroke-width:0.8;\"/>\n   </g>\n   <g id=\"patch_15\">\n    <path d=\"M 263.254412 107.711404 \nL 361.725 107.711404 \n\" style=\"fill:none;stroke:#000000;stroke-linecap:square;stroke-linejoin:miter;stroke-width:0.8;\"/>\n   </g>\n   <g id=\"patch_16\">\n    <path d=\"M 263.254412 9.240815 \nL 361.725 9.240815 \n\" style=\"fill:none;stroke:#000000;stroke-linecap:square;stroke-linejoin:miter;stroke-width:0.8;\"/>\n   </g>\n  </g>\n </g>\n <defs>\n  <clipPath id=\"p5a0f0b1d9f\">\n   <rect height=\"98.470588\" width=\"98.470588\" x=\"26.925\" y=\"9.240815\"/>\n  </clipPath>\n  <clipPath id=\"p11f3947bd3\">\n   <rect height=\"98.470588\" width=\"98.470588\" x=\"145.089706\" y=\"9.240815\"/>\n  </clipPath>\n  <clipPath id=\"p68e191c87e\">\n   <rect height=\"98.470588\" width=\"98.470588\" x=\"263.254412\" y=\"9.240815\"/>\n  </clipPath>\n </defs>\n</svg>\n",
      "text/plain": [
       "<Figure size 432x288 with 3 Axes>"
      ]
     },
     "metadata": {
      "needs_background": "light"
     }
    }
   ],
   "metadata": {}
  },
  {
   "cell_type": "markdown",
   "source": [
    "Our data is correctly loaded, we need to specify our model and train it."
   ],
   "metadata": {}
  },
  {
   "cell_type": "code",
   "execution_count": 141,
   "source": [
    "class NNet(nn.Module):\n",
    "    def __init__(self,input_size,hidden_size,n_class):\n",
    "        super(NNet, self).__init__()\n",
    "        self.l1 = nn.Linear(input_size,hidden_size)\n",
    "        self.relu = nn.ReLU()\n",
    "        self.l2 = nn.Linear(hidden_size,n_class)\n",
    "\n",
    "    def forward(self,x):\n",
    "        out = self.l1(x)\n",
    "        out = self.relu(out)\n",
    "        out = self.l2(out)\n",
    "        return out \n",
    "\n",
    "model = NNet(input_size, hidden_size, n_class)\n",
    "model = model.to(device) # We need to push all the parameters of the model to the GPU!!!\n"
   ],
   "outputs": [],
   "metadata": {}
  },
  {
   "cell_type": "markdown",
   "source": [
    "Once defined we should specify our loss and optimizer"
   ],
   "metadata": {}
  },
  {
   "cell_type": "code",
   "execution_count": 142,
   "source": [
    "crit = nn.CrossEntropyLoss()\n",
    "optim = torch.optim.Adam(model.parameters(), lr = lr)"
   ],
   "outputs": [],
   "metadata": {}
  },
  {
   "cell_type": "markdown",
   "source": [
    "Finally our training loop:\n",
    "\n",
    "* Some remarks:\n",
    "    * We need to reshape our data since our specified `input_size= 784`\n",
    "    * We will be pushing tensor to gpu (`device`), for the first time\n",
    "    * try to remember everything reviewed at the first two notebooks at this point"
   ],
   "metadata": {}
  },
  {
   "cell_type": "code",
   "execution_count": 143,
   "source": [
    "n_total = len(train_loader)\n",
    "for epoch in range(n_epochs):\n",
    "    for i, (images,labels) in enumerate(train_loader):\n",
    "        images = images.reshape(-1,784).to(device)\n",
    "        labels = labels.to(device)\n",
    "\n",
    "        outpt = model(images)\n",
    "        loss = crit(outpt,labels)\n",
    "\n",
    "        optim.zero_grad()\n",
    "        loss.backward()\n",
    "        optim.step()\n",
    "\n",
    "        if (i+1) % 300 == 0:\n",
    "            print(f'epoch: {epoch+1}|{n_epochs},step: {i+1}|{n_total}')\n",
    "            print(f'loss: {loss.item():.2f}')"
   ],
   "outputs": [
    {
     "output_type": "stream",
     "name": "stdout",
     "text": [
      "epoch: 1|4,step: 300|600\n",
      "loss: 0.26\n",
      "epoch: 1|4,step: 600|600\n",
      "loss: 0.38\n",
      "epoch: 2|4,step: 300|600\n",
      "loss: 0.39\n",
      "epoch: 2|4,step: 600|600\n",
      "loss: 0.20\n",
      "epoch: 3|4,step: 300|600\n",
      "loss: 0.25\n",
      "epoch: 3|4,step: 600|600\n",
      "loss: 0.25\n",
      "epoch: 4|4,step: 300|600\n",
      "loss: 0.24\n",
      "epoch: 4|4,step: 600|600\n",
      "loss: 0.11\n"
     ]
    }
   ],
   "metadata": {}
  },
  {
   "cell_type": "markdown",
   "source": [
    "Next the test loop, why we are using the `torch.no_grad()`\n",
    "here?"
   ],
   "metadata": {}
  },
  {
   "cell_type": "code",
   "execution_count": 144,
   "source": [
    "with torch.no_grad():\n",
    "    n_samples = 0\n",
    "    n_correct = 0\n",
    "    for images, labels in test_loader:\n",
    "        images = images.reshape(-1,784).to(device)\n",
    "        labels = labels.to(device)\n",
    "        out = model(images)\n",
    "        _,predictions = torch.max(out,1)\n",
    "        n_samples+=labels.shape[0]\n",
    "        n_correct+=(predictions==labels).sum().item()\n",
    "    acc = n_correct/n_samples * 100.0\n",
    "\n",
    "    print(f'test accuracy: {acc}')"
   ],
   "outputs": [
    {
     "output_type": "stream",
     "name": "stdout",
     "text": [
      "test accuracy: 93.76\n"
     ]
    }
   ],
   "metadata": {}
  },
  {
   "cell_type": "markdown",
   "source": [
    "So it seems that it is working!!! \n",
    "\n",
    "Next we will review a tool called **tensorboard** and how to save our models."
   ],
   "metadata": {}
  }
 ],
 "metadata": {
  "orig_nbformat": 4,
  "language_info": {
   "name": "python",
   "version": "3.9.5",
   "mimetype": "text/x-python",
   "codemirror_mode": {
    "name": "ipython",
    "version": 3
   },
   "pygments_lexer": "ipython3",
   "nbconvert_exporter": "python",
   "file_extension": ".py"
  },
  "kernelspec": {
   "name": "python3",
   "display_name": "Python 3.9.5 64-bit ('Pytorch_Intro-tTLkiOo3': pipenv)"
  },
  "interpreter": {
   "hash": "2dcc0e8861c3ac3e9ce0aee99191a4c13ff6b8d1fd5b0c82dfaa231f15b68aa4"
  }
 },
 "nbformat": 4,
 "nbformat_minor": 2
}